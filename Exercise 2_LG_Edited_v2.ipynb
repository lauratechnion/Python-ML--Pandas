{
 "cells": [
  {
   "cell_type": "markdown",
   "id": "262ed441-1e2f-4f23-af4e-3c1c0f6dc002",
   "metadata": {},
   "source": [
    "# Pandas Test - Real life exercise"
   ]
  },
  {
   "cell_type": "code",
   "execution_count": 1,
   "id": "e24b34ca-0a21-4dc6-92e4-4b16bcbd5a98",
   "metadata": {},
   "outputs": [],
   "source": [
    "import pandas as pd"
   ]
  },
  {
   "cell_type": "markdown",
   "id": "ad46fe63-39ad-4b03-b6b6-623586b94d45",
   "metadata": {},
   "source": [
    "For visualizations:"
   ]
  },
  {
   "cell_type": "code",
   "execution_count": 2,
   "id": "58bd46da-da6c-44d0-903f-19be230836e5",
   "metadata": {},
   "outputs": [
    {
     "data": {
      "text/html": [
       "        <script type=\"text/javascript\">\n",
       "        window.PlotlyConfig = {MathJaxConfig: 'local'};\n",
       "        if (window.MathJax) {MathJax.Hub.Config({SVG: {font: \"STIX-Web\"}});}\n",
       "        if (typeof require !== 'undefined') {\n",
       "        require.undef(\"plotly\");\n",
       "        requirejs.config({\n",
       "            paths: {\n",
       "                'plotly': ['https://cdn.plot.ly/plotly-2.9.0.min']\n",
       "            }\n",
       "        });\n",
       "        require(['plotly'], function(Plotly) {\n",
       "            window._Plotly = Plotly;\n",
       "        });\n",
       "        }\n",
       "        </script>\n",
       "        "
      ]
     },
     "metadata": {},
     "output_type": "display_data"
    }
   ],
   "source": [
    "import cufflinks as cf; cf.go_offline()\n",
    "import plotly_express as px"
   ]
  },
  {
   "cell_type": "markdown",
   "id": "2685b7b6-1a31-451b-a1e8-f29c1513b697",
   "metadata": {},
   "source": [
    "## About the data"
   ]
  },
  {
   "cell_type": "markdown",
   "id": "5453d0d4-f625-41df-942e-ff2f5cf0f993",
   "metadata": {},
   "source": [
    "The data you are about to load is coming from an Ad recommentation system of the company InBrain. InBrain is a adTech company and specalize in next-level ad recommendation.  \n",
    "The company has two major products - one giving high quality recommendation while the other is giving an highly yielding recommendation. Inbrain custormers are sending requests, asking for either of the products. \n",
    "\n",
    "Once a week, the company is doing an internal quality assements, and sends a sample of its traffic requests to external annotation process, in which the annotators are trained to manually decided whether the recommended Ad is a succes or not. The data contains information about the ad (**ad_id**), the sampled week (**week_id**), the requester company (**requester**), the region of operation (**region**), the recommendation type (Quality/Yield, **recommendation_type**) and the recommendation provider algorithm (**rec_provider**). The annotators are marking whether the recommendation is meeting the Quality/Yield standards (**is_success**) and whether or not the recommendation is severly defected (**is_sever**)\n",
    "\n",
    "See a sample below:"
   ]
  },
  {
   "cell_type": "code",
   "execution_count": 3,
   "id": "71b69819-00b8-4612-bd2f-49bab7b7ab13",
   "metadata": {},
   "outputs": [
    {
     "data": {
      "text/html": [
       "<div>\n",
       "<style scoped>\n",
       "    .dataframe tbody tr th:only-of-type {\n",
       "        vertical-align: middle;\n",
       "    }\n",
       "\n",
       "    .dataframe tbody tr th {\n",
       "        vertical-align: top;\n",
       "    }\n",
       "\n",
       "    .dataframe thead th {\n",
       "        text-align: right;\n",
       "    }\n",
       "</style>\n",
       "<table border=\"1\" class=\"dataframe\">\n",
       "  <thead>\n",
       "    <tr style=\"text-align: right;\">\n",
       "      <th></th>\n",
       "      <th>week_id</th>\n",
       "      <th>ad_id</th>\n",
       "      <th>requester</th>\n",
       "      <th>region</th>\n",
       "      <th>is_success</th>\n",
       "      <th>is_sever</th>\n",
       "      <th>recommendation_type</th>\n",
       "      <th>rec_provider</th>\n",
       "    </tr>\n",
       "  </thead>\n",
       "  <tbody>\n",
       "    <tr>\n",
       "      <th>313184</th>\n",
       "      <td>2022-week_03</td>\n",
       "      <td>AD08R888TM</td>\n",
       "      <td>Extreme DA</td>\n",
       "      <td>US</td>\n",
       "      <td>yes</td>\n",
       "      <td>NaN</td>\n",
       "      <td>Yield</td>\n",
       "      <td>RNNY</td>\n",
       "    </tr>\n",
       "    <tr>\n",
       "      <th>142202</th>\n",
       "      <td>2021-week_42</td>\n",
       "      <td>AD097K8M8K</td>\n",
       "      <td>Extreme DA</td>\n",
       "      <td>US</td>\n",
       "      <td>yes</td>\n",
       "      <td>NaN</td>\n",
       "      <td>Yield</td>\n",
       "      <td>DNNY</td>\n",
       "    </tr>\n",
       "    <tr>\n",
       "      <th>175406</th>\n",
       "      <td>2021-week_45</td>\n",
       "      <td>AD00HH8VDC</td>\n",
       "      <td>Fry Multimedia</td>\n",
       "      <td>GB</td>\n",
       "      <td>yes</td>\n",
       "      <td>NaN</td>\n",
       "      <td>Qality</td>\n",
       "      <td>XGBQ</td>\n",
       "    </tr>\n",
       "    <tr>\n",
       "      <th>320124</th>\n",
       "      <td>2022-week_04</td>\n",
       "      <td>AD00LUH6XP</td>\n",
       "      <td>RelayFoods</td>\n",
       "      <td>GB</td>\n",
       "      <td>yes</td>\n",
       "      <td>NaN</td>\n",
       "      <td>Qality</td>\n",
       "      <td>DNNQ</td>\n",
       "    </tr>\n",
       "    <tr>\n",
       "      <th>163542</th>\n",
       "      <td>2021-week_44</td>\n",
       "      <td>AD09Q8S8Q8</td>\n",
       "      <td>Search Million Culture</td>\n",
       "      <td>GB</td>\n",
       "      <td>yes</td>\n",
       "      <td>NaN</td>\n",
       "      <td>Qality</td>\n",
       "      <td>DNNQ</td>\n",
       "    </tr>\n",
       "  </tbody>\n",
       "</table>\n",
       "</div>"
      ],
      "text/plain": [
       "             week_id       ad_id               requester region is_success  \\\n",
       "313184  2022-week_03  AD08R888TM              Extreme DA     US        yes   \n",
       "142202  2021-week_42  AD097K8M8K              Extreme DA     US        yes   \n",
       "175406  2021-week_45  AD00HH8VDC          Fry Multimedia     GB        yes   \n",
       "320124  2022-week_04  AD00LUH6XP              RelayFoods     GB        yes   \n",
       "163542  2021-week_44  AD09Q8S8Q8  Search Million Culture     GB        yes   \n",
       "\n",
       "       is_sever recommendation_type rec_provider  \n",
       "313184      NaN               Yield         RNNY  \n",
       "142202      NaN               Yield         DNNY  \n",
       "175406      NaN              Qality         XGBQ  \n",
       "320124      NaN              Qality         DNNQ  \n",
       "163542      NaN              Qality         DNNQ  "
      ]
     },
     "execution_count": 3,
     "metadata": {},
     "output_type": "execute_result"
    }
   ],
   "source": [
    "ad_recs_annotated = pd.read_csv('data/ad_annotations.csv')\n",
    "ad_recs_annotated.sample(5)"
   ]
  },
  {
   "cell_type": "markdown",
   "id": "f4413766-e8bf-4f14-94e0-f58cfb88bb07",
   "metadata": {},
   "source": [
    "Your job, as the new and only data scientist of the company, is to get familiar with the the data, show week-over-week trends and produce insightfull graphs as a preparation to a full blown BI dashboard."
   ]
  },
  {
   "cell_type": "markdown",
   "id": "97faa00a-e0e3-47c0-bb8e-b3f72e1f0cb1",
   "metadata": {},
   "source": [
    "## Questions"
   ]
  },
  {
   "cell_type": "markdown",
   "id": "c0ed5ec1-d7b3-49a6-bf12-29420eab3a67",
   "metadata": {},
   "source": [
    "### Data Modifications"
   ]
  },
  {
   "cell_type": "markdown",
   "id": "8db18aad-c8b8-4fd4-994f-c008f279e1f6",
   "metadata": {},
   "source": [
    "* Add a column with the sample year\n",
    "* Add a column with the sample quarter (google how to)\n",
    "* Add a new success column with values 1 and 0 for yes and no \n",
    "* Are there duplicated ads? To compac the data, remove duplicated ads and instead add an ad_count column **(pay attention, this is not trivial at all)**\n",
    "* Are there any NaNs in the is_sever column? Count how many and create a new column with NaNs filled as False. Check that indeed the new column contaion no NaNs. \n",
    "* Capitlize (first letter only) the is_success column"
   ]
  },
  {
   "cell_type": "markdown",
   "id": "088936f9-2961-4eee-9963-cee433ebb830",
   "metadata": {},
   "source": [
    "**Solution 1**"
   ]
  },
  {
   "cell_type": "code",
   "execution_count": 4,
   "id": "75c4a828-b1b6-43fd-8691-e5ef288af773",
   "metadata": {},
   "outputs": [
    {
     "data": {
      "text/html": [
       "<div>\n",
       "<style scoped>\n",
       "    .dataframe tbody tr th:only-of-type {\n",
       "        vertical-align: middle;\n",
       "    }\n",
       "\n",
       "    .dataframe tbody tr th {\n",
       "        vertical-align: top;\n",
       "    }\n",
       "\n",
       "    .dataframe thead th {\n",
       "        text-align: right;\n",
       "    }\n",
       "</style>\n",
       "<table border=\"1\" class=\"dataframe\">\n",
       "  <thead>\n",
       "    <tr style=\"text-align: right;\">\n",
       "      <th></th>\n",
       "      <th>week_id</th>\n",
       "      <th>ad_id</th>\n",
       "      <th>requester</th>\n",
       "      <th>region</th>\n",
       "      <th>is_success</th>\n",
       "      <th>is_sever</th>\n",
       "      <th>recommendation_type</th>\n",
       "      <th>rec_provider</th>\n",
       "      <th>year</th>\n",
       "    </tr>\n",
       "  </thead>\n",
       "  <tbody>\n",
       "    <tr>\n",
       "      <th>0</th>\n",
       "      <td>2021-week_33</td>\n",
       "      <td>AD0088VOS</td>\n",
       "      <td>Search Million Culture</td>\n",
       "      <td>DE</td>\n",
       "      <td>yes</td>\n",
       "      <td>NaN</td>\n",
       "      <td>Qality</td>\n",
       "      <td>DNNQ</td>\n",
       "      <td>2021</td>\n",
       "    </tr>\n",
       "  </tbody>\n",
       "</table>\n",
       "</div>"
      ],
      "text/plain": [
       "        week_id      ad_id               requester region is_success is_sever  \\\n",
       "0  2021-week_33  AD0088VOS  Search Million Culture     DE        yes      NaN   \n",
       "\n",
       "  recommendation_type rec_provider  year  \n",
       "0              Qality         DNNQ  2021  "
      ]
     },
     "execution_count": 4,
     "metadata": {},
     "output_type": "execute_result"
    }
   ],
   "source": [
    "ad_recs_annotated['year'] = ad_recs_annotated.week_id.apply(lambda x: x[:4])\n",
    "ad_recs_annotated['year'] = ad_recs_annotated['year'].astype('int')\n",
    "ad_recs_annotated.head(1)"
   ]
  },
  {
   "cell_type": "code",
   "execution_count": 5,
   "id": "b8690445-2049-42a6-9557-2cd8cc50216b",
   "metadata": {},
   "outputs": [
    {
     "data": {
      "text/html": [
       "<div>\n",
       "<style scoped>\n",
       "    .dataframe tbody tr th:only-of-type {\n",
       "        vertical-align: middle;\n",
       "    }\n",
       "\n",
       "    .dataframe tbody tr th {\n",
       "        vertical-align: top;\n",
       "    }\n",
       "\n",
       "    .dataframe thead th {\n",
       "        text-align: right;\n",
       "    }\n",
       "</style>\n",
       "<table border=\"1\" class=\"dataframe\">\n",
       "  <thead>\n",
       "    <tr style=\"text-align: right;\">\n",
       "      <th></th>\n",
       "      <th>week_id</th>\n",
       "      <th>ad_id</th>\n",
       "      <th>requester</th>\n",
       "      <th>region</th>\n",
       "      <th>is_success</th>\n",
       "      <th>is_sever</th>\n",
       "      <th>recommendation_type</th>\n",
       "      <th>rec_provider</th>\n",
       "      <th>year</th>\n",
       "      <th>week</th>\n",
       "    </tr>\n",
       "  </thead>\n",
       "  <tbody>\n",
       "    <tr>\n",
       "      <th>0</th>\n",
       "      <td>2021-week_33</td>\n",
       "      <td>AD0088VOS</td>\n",
       "      <td>Search Million Culture</td>\n",
       "      <td>DE</td>\n",
       "      <td>yes</td>\n",
       "      <td>NaN</td>\n",
       "      <td>Qality</td>\n",
       "      <td>DNNQ</td>\n",
       "      <td>2021</td>\n",
       "      <td>33</td>\n",
       "    </tr>\n",
       "  </tbody>\n",
       "</table>\n",
       "</div>"
      ],
      "text/plain": [
       "        week_id      ad_id               requester region is_success is_sever  \\\n",
       "0  2021-week_33  AD0088VOS  Search Million Culture     DE        yes      NaN   \n",
       "\n",
       "  recommendation_type rec_provider  year  week  \n",
       "0              Qality         DNNQ  2021    33  "
      ]
     },
     "execution_count": 5,
     "metadata": {},
     "output_type": "execute_result"
    }
   ],
   "source": [
    "ad_recs_annotated['week'] = ad_recs_annotated['week_id'].str[-2:]\n",
    "ad_recs_annotated['week'] = ad_recs_annotated['week'].astype('int')\n",
    "ad_recs_annotated.head(1)"
   ]
  },
  {
   "cell_type": "markdown",
   "id": "059c1856-3791-4cd5-b982-ff14ea41ddfd",
   "metadata": {},
   "source": [
    "**Solution 2**"
   ]
  },
  {
   "cell_type": "code",
   "execution_count": 6,
   "id": "d4669d59-065d-464a-875d-9786501725c7",
   "metadata": {},
   "outputs": [
    {
     "data": {
      "text/html": [
       "<div>\n",
       "<style scoped>\n",
       "    .dataframe tbody tr th:only-of-type {\n",
       "        vertical-align: middle;\n",
       "    }\n",
       "\n",
       "    .dataframe tbody tr th {\n",
       "        vertical-align: top;\n",
       "    }\n",
       "\n",
       "    .dataframe thead th {\n",
       "        text-align: right;\n",
       "    }\n",
       "</style>\n",
       "<table border=\"1\" class=\"dataframe\">\n",
       "  <thead>\n",
       "    <tr style=\"text-align: right;\">\n",
       "      <th></th>\n",
       "      <th>week_id</th>\n",
       "      <th>ad_id</th>\n",
       "      <th>requester</th>\n",
       "      <th>region</th>\n",
       "      <th>is_success</th>\n",
       "      <th>is_sever</th>\n",
       "      <th>recommendation_type</th>\n",
       "      <th>rec_provider</th>\n",
       "      <th>year</th>\n",
       "      <th>week</th>\n",
       "      <th>quarter</th>\n",
       "    </tr>\n",
       "  </thead>\n",
       "  <tbody>\n",
       "    <tr>\n",
       "      <th>0</th>\n",
       "      <td>2021-week_33</td>\n",
       "      <td>AD0088VOS</td>\n",
       "      <td>Search Million Culture</td>\n",
       "      <td>DE</td>\n",
       "      <td>yes</td>\n",
       "      <td>NaN</td>\n",
       "      <td>Qality</td>\n",
       "      <td>DNNQ</td>\n",
       "      <td>2021</td>\n",
       "      <td>33</td>\n",
       "      <td>3</td>\n",
       "    </tr>\n",
       "  </tbody>\n",
       "</table>\n",
       "</div>"
      ],
      "text/plain": [
       "        week_id      ad_id               requester region is_success is_sever  \\\n",
       "0  2021-week_33  AD0088VOS  Search Million Culture     DE        yes      NaN   \n",
       "\n",
       "  recommendation_type rec_provider  year  week  quarter  \n",
       "0              Qality         DNNQ  2021    33        3  "
      ]
     },
     "execution_count": 6,
     "metadata": {},
     "output_type": "execute_result"
    }
   ],
   "source": [
    "wk=ad_recs_annotated['week'].astype('int')\n",
    "ad_recs_annotated['quarter'] = ((wk-1) // 13) + 1\n",
    "ad_recs_annotated.head(1)"
   ]
  },
  {
   "cell_type": "markdown",
   "id": "5ac461a1-1cc0-4d44-9ca9-81d295032a7c",
   "metadata": {},
   "source": [
    "**Solution 3**"
   ]
  },
  {
   "cell_type": "code",
   "execution_count": 7,
   "id": "fe1b0273-9759-4c4d-aa61-05d7e659c041",
   "metadata": {},
   "outputs": [
    {
     "data": {
      "text/html": [
       "<div>\n",
       "<style scoped>\n",
       "    .dataframe tbody tr th:only-of-type {\n",
       "        vertical-align: middle;\n",
       "    }\n",
       "\n",
       "    .dataframe tbody tr th {\n",
       "        vertical-align: top;\n",
       "    }\n",
       "\n",
       "    .dataframe thead th {\n",
       "        text-align: right;\n",
       "    }\n",
       "</style>\n",
       "<table border=\"1\" class=\"dataframe\">\n",
       "  <thead>\n",
       "    <tr style=\"text-align: right;\">\n",
       "      <th></th>\n",
       "      <th>week_id</th>\n",
       "      <th>ad_id</th>\n",
       "      <th>requester</th>\n",
       "      <th>region</th>\n",
       "      <th>is_success</th>\n",
       "      <th>is_sever</th>\n",
       "      <th>recommendation_type</th>\n",
       "      <th>rec_provider</th>\n",
       "      <th>year</th>\n",
       "      <th>week</th>\n",
       "      <th>quarter</th>\n",
       "      <th>new_success</th>\n",
       "    </tr>\n",
       "  </thead>\n",
       "  <tbody>\n",
       "    <tr>\n",
       "      <th>325622</th>\n",
       "      <td>2022-week_04</td>\n",
       "      <td>AD08WWTN6M</td>\n",
       "      <td>Extreme DA</td>\n",
       "      <td>US</td>\n",
       "      <td>yes</td>\n",
       "      <td>NaN</td>\n",
       "      <td>Yield</td>\n",
       "      <td>RNNY</td>\n",
       "      <td>2022</td>\n",
       "      <td>4</td>\n",
       "      <td>1</td>\n",
       "      <td>1</td>\n",
       "    </tr>\n",
       "    <tr>\n",
       "      <th>573</th>\n",
       "      <td>2021-week_33</td>\n",
       "      <td>AD07L88SD8</td>\n",
       "      <td>Search Million Culture</td>\n",
       "      <td>DE</td>\n",
       "      <td>yes</td>\n",
       "      <td>NaN</td>\n",
       "      <td>Qality</td>\n",
       "      <td>DNNQ</td>\n",
       "      <td>2021</td>\n",
       "      <td>33</td>\n",
       "      <td>3</td>\n",
       "      <td>1</td>\n",
       "    </tr>\n",
       "    <tr>\n",
       "      <th>5039</th>\n",
       "      <td>2021-week_33</td>\n",
       "      <td>AD00CHLV08</td>\n",
       "      <td>iDreamsky Technology</td>\n",
       "      <td>GB</td>\n",
       "      <td>no</td>\n",
       "      <td>True</td>\n",
       "      <td>Qality</td>\n",
       "      <td>DNNQ</td>\n",
       "      <td>2021</td>\n",
       "      <td>33</td>\n",
       "      <td>3</td>\n",
       "      <td>0</td>\n",
       "    </tr>\n",
       "    <tr>\n",
       "      <th>285279</th>\n",
       "      <td>2022-week_01</td>\n",
       "      <td>AD07K8WW8W</td>\n",
       "      <td>Extreme DA</td>\n",
       "      <td>US</td>\n",
       "      <td>yes</td>\n",
       "      <td>NaN</td>\n",
       "      <td>Yield</td>\n",
       "      <td>RNNY</td>\n",
       "      <td>2022</td>\n",
       "      <td>1</td>\n",
       "      <td>1</td>\n",
       "      <td>1</td>\n",
       "    </tr>\n",
       "    <tr>\n",
       "      <th>253443</th>\n",
       "      <td>2021-week_50</td>\n",
       "      <td>AD07YG8H8Y</td>\n",
       "      <td>RelayFoods</td>\n",
       "      <td>JP</td>\n",
       "      <td>yes</td>\n",
       "      <td>NaN</td>\n",
       "      <td>Qality</td>\n",
       "      <td>UserPopQ</td>\n",
       "      <td>2021</td>\n",
       "      <td>50</td>\n",
       "      <td>4</td>\n",
       "      <td>1</td>\n",
       "    </tr>\n",
       "  </tbody>\n",
       "</table>\n",
       "</div>"
      ],
      "text/plain": [
       "             week_id       ad_id               requester region is_success  \\\n",
       "325622  2022-week_04  AD08WWTN6M              Extreme DA     US        yes   \n",
       "573     2021-week_33  AD07L88SD8  Search Million Culture     DE        yes   \n",
       "5039    2021-week_33  AD00CHLV08    iDreamsky Technology     GB         no   \n",
       "285279  2022-week_01  AD07K8WW8W              Extreme DA     US        yes   \n",
       "253443  2021-week_50  AD07YG8H8Y              RelayFoods     JP        yes   \n",
       "\n",
       "       is_sever recommendation_type rec_provider  year  week  quarter  \\\n",
       "325622      NaN               Yield         RNNY  2022     4        1   \n",
       "573         NaN              Qality         DNNQ  2021    33        3   \n",
       "5039       True              Qality         DNNQ  2021    33        3   \n",
       "285279      NaN               Yield         RNNY  2022     1        1   \n",
       "253443      NaN              Qality     UserPopQ  2021    50        4   \n",
       "\n",
       "        new_success  \n",
       "325622            1  \n",
       "573               1  \n",
       "5039              0  \n",
       "285279            1  \n",
       "253443            1  "
      ]
     },
     "execution_count": 7,
     "metadata": {},
     "output_type": "execute_result"
    }
   ],
   "source": [
    "ad_recs_annotated['new_success'] = ad_recs_annotated['is_success'].apply(lambda x: 1 if x == 'yes' else 0)\n",
    "ad_recs_annotated.sample(5)"
   ]
  },
  {
   "cell_type": "markdown",
   "id": "159af558-d415-49b8-8011-62f214146b75",
   "metadata": {},
   "source": [
    "**Solution 4**"
   ]
  },
  {
   "cell_type": "code",
   "execution_count": 8,
   "id": "f4fe58cd-bebe-4645-b068-dfefa7966cbe",
   "metadata": {},
   "outputs": [
    {
     "data": {
      "text/plain": [
       "73061"
      ]
     },
     "execution_count": 8,
     "metadata": {},
     "output_type": "execute_result"
    }
   ],
   "source": [
    "ad_recs_annotated.duplicated(subset='ad_id').sum()"
   ]
  },
  {
   "cell_type": "markdown",
   "id": "9aa9944d-af57-4e89-8dcc-6860b9f0f197",
   "metadata": {},
   "source": [
    "Conclusion: We can see that there are duplicates in ad_id column."
   ]
  },
  {
   "cell_type": "code",
   "execution_count": 9,
   "id": "a1f246e5-be08-4930-ab15-4394ea25140d",
   "metadata": {},
   "outputs": [
    {
     "data": {
      "text/html": [
       "<div>\n",
       "<style scoped>\n",
       "    .dataframe tbody tr th:only-of-type {\n",
       "        vertical-align: middle;\n",
       "    }\n",
       "\n",
       "    .dataframe tbody tr th {\n",
       "        vertical-align: top;\n",
       "    }\n",
       "\n",
       "    .dataframe thead th {\n",
       "        text-align: right;\n",
       "    }\n",
       "</style>\n",
       "<table border=\"1\" class=\"dataframe\">\n",
       "  <thead>\n",
       "    <tr style=\"text-align: right;\">\n",
       "      <th></th>\n",
       "      <th>ad_id</th>\n",
       "      <th>ad_count</th>\n",
       "    </tr>\n",
       "  </thead>\n",
       "  <tbody>\n",
       "    <tr>\n",
       "      <th>0</th>\n",
       "      <td>AD00000088</td>\n",
       "      <td>1</td>\n",
       "    </tr>\n",
       "    <tr>\n",
       "      <th>1</th>\n",
       "      <td>AD000000WF</td>\n",
       "      <td>1</td>\n",
       "    </tr>\n",
       "    <tr>\n",
       "      <th>2</th>\n",
       "      <td>AD00000876</td>\n",
       "      <td>1</td>\n",
       "    </tr>\n",
       "    <tr>\n",
       "      <th>3</th>\n",
       "      <td>AD00000888</td>\n",
       "      <td>2</td>\n",
       "    </tr>\n",
       "    <tr>\n",
       "      <th>4</th>\n",
       "      <td>AD0000088C</td>\n",
       "      <td>1</td>\n",
       "    </tr>\n",
       "    <tr>\n",
       "      <th>...</th>\n",
       "      <td>...</td>\n",
       "      <td>...</td>\n",
       "    </tr>\n",
       "    <tr>\n",
       "      <th>300722</th>\n",
       "      <td>AD98980890</td>\n",
       "      <td>1</td>\n",
       "    </tr>\n",
       "    <tr>\n",
       "      <th>300723</th>\n",
       "      <td>AD98988688</td>\n",
       "      <td>1</td>\n",
       "    </tr>\n",
       "    <tr>\n",
       "      <th>300724</th>\n",
       "      <td>AD98988898</td>\n",
       "      <td>2</td>\n",
       "    </tr>\n",
       "    <tr>\n",
       "      <th>300725</th>\n",
       "      <td>AD99798888</td>\n",
       "      <td>1</td>\n",
       "    </tr>\n",
       "    <tr>\n",
       "      <th>300726</th>\n",
       "      <td>ADOO8X898E</td>\n",
       "      <td>2</td>\n",
       "    </tr>\n",
       "  </tbody>\n",
       "</table>\n",
       "<p>300727 rows × 2 columns</p>\n",
       "</div>"
      ],
      "text/plain": [
       "             ad_id  ad_count\n",
       "0       AD00000088         1\n",
       "1       AD000000WF         1\n",
       "2       AD00000876         1\n",
       "3       AD00000888         2\n",
       "4       AD0000088C         1\n",
       "...            ...       ...\n",
       "300722  AD98980890         1\n",
       "300723  AD98988688         1\n",
       "300724  AD98988898         2\n",
       "300725  AD99798888         1\n",
       "300726  ADOO8X898E         2\n",
       "\n",
       "[300727 rows x 2 columns]"
      ]
     },
     "execution_count": 9,
     "metadata": {},
     "output_type": "execute_result"
    }
   ],
   "source": [
    "ad_recs_annotated['ad_count'] = 1\n",
    "ad_recs_annotated.groupby(['ad_id']).ad_count.count().reset_index()"
   ]
  },
  {
   "cell_type": "code",
   "execution_count": 10,
   "id": "558b7e18-8b8c-46db-b57b-c88a86afc7b8",
   "metadata": {},
   "outputs": [
    {
     "name": "stdout",
     "output_type": "stream",
     "text": [
      "ad_id\n",
      "AD00000088    1\n",
      "AD000000WF    1\n",
      "AD00000876    1\n",
      "AD00000888    2\n",
      "AD0000088C    1\n",
      "             ..\n",
      "AD98980890    1\n",
      "AD98988688    1\n",
      "AD98988898    2\n",
      "AD99798888    1\n",
      "ADOO8X898E    2\n",
      "Length: 300727, dtype: int64\n"
     ]
    }
   ],
   "source": [
    "#Check the results with an alternative code\n",
    "no_duplicates = ad_recs_annotated.pivot_table(columns=['ad_id'], aggfunc='size',margins_name='ad_count')\n",
    "print(no_duplicates)"
   ]
  },
  {
   "cell_type": "markdown",
   "id": "68282ad0-39df-4cab-854c-c0600a33465d",
   "metadata": {},
   "source": [
    "**Solution 5**"
   ]
  },
  {
   "cell_type": "code",
   "execution_count": 11,
   "id": "06068805-1ead-48c8-bdfc-00f78d2907d6",
   "metadata": {},
   "outputs": [
    {
     "data": {
      "text/plain": [
       "304195"
      ]
     },
     "execution_count": 11,
     "metadata": {},
     "output_type": "execute_result"
    }
   ],
   "source": [
    "ad_recs_annotated.is_sever.isnull().sum()"
   ]
  },
  {
   "cell_type": "markdown",
   "id": "b4753943-6ba1-4500-acef-ee00153d4709",
   "metadata": {},
   "source": [
    "Conclusion: Yes, there are NaN values in column is_server."
   ]
  },
  {
   "cell_type": "code",
   "execution_count": 12,
   "id": "e8d794c5-ea02-45f2-8453-2d819d4e8f77",
   "metadata": {},
   "outputs": [],
   "source": [
    "ad_recs_annotated['new_is_sever'] = ad_recs_annotated['is_sever'].fillna(False)"
   ]
  },
  {
   "cell_type": "code",
   "execution_count": 13,
   "id": "0797689a-2c83-471f-9e5a-e1a8c58907d2",
   "metadata": {},
   "outputs": [
    {
     "data": {
      "text/html": [
       "<div>\n",
       "<style scoped>\n",
       "    .dataframe tbody tr th:only-of-type {\n",
       "        vertical-align: middle;\n",
       "    }\n",
       "\n",
       "    .dataframe tbody tr th {\n",
       "        vertical-align: top;\n",
       "    }\n",
       "\n",
       "    .dataframe thead th {\n",
       "        text-align: right;\n",
       "    }\n",
       "</style>\n",
       "<table border=\"1\" class=\"dataframe\">\n",
       "  <thead>\n",
       "    <tr style=\"text-align: right;\">\n",
       "      <th></th>\n",
       "      <th>week_id</th>\n",
       "      <th>ad_id</th>\n",
       "      <th>requester</th>\n",
       "      <th>region</th>\n",
       "      <th>is_success</th>\n",
       "      <th>is_sever</th>\n",
       "      <th>recommendation_type</th>\n",
       "      <th>rec_provider</th>\n",
       "      <th>year</th>\n",
       "      <th>week</th>\n",
       "      <th>quarter</th>\n",
       "      <th>new_success</th>\n",
       "      <th>ad_count</th>\n",
       "      <th>new_is_sever</th>\n",
       "    </tr>\n",
       "  </thead>\n",
       "  <tbody>\n",
       "    <tr>\n",
       "      <th>50341</th>\n",
       "      <td>2021-week_36</td>\n",
       "      <td>AD00FXYTLI</td>\n",
       "      <td>Search Million Culture</td>\n",
       "      <td>IN</td>\n",
       "      <td>no</td>\n",
       "      <td>True</td>\n",
       "      <td>Qality</td>\n",
       "      <td>UserPopQ</td>\n",
       "      <td>2021</td>\n",
       "      <td>36</td>\n",
       "      <td>3</td>\n",
       "      <td>0</td>\n",
       "      <td>1</td>\n",
       "      <td>True</td>\n",
       "    </tr>\n",
       "    <tr>\n",
       "      <th>332082</th>\n",
       "      <td>2022-week_05</td>\n",
       "      <td>AD00NE8HF8</td>\n",
       "      <td>Fancy</td>\n",
       "      <td>GB</td>\n",
       "      <td>yes</td>\n",
       "      <td>NaN</td>\n",
       "      <td>Qality</td>\n",
       "      <td>DNNQ</td>\n",
       "      <td>2022</td>\n",
       "      <td>5</td>\n",
       "      <td>1</td>\n",
       "      <td>1</td>\n",
       "      <td>1</td>\n",
       "      <td>False</td>\n",
       "    </tr>\n",
       "    <tr>\n",
       "      <th>41958</th>\n",
       "      <td>2021-week_35</td>\n",
       "      <td>AD07N8J8H8</td>\n",
       "      <td>MoJoe Brewing Company</td>\n",
       "      <td>US</td>\n",
       "      <td>yes</td>\n",
       "      <td>NaN</td>\n",
       "      <td>Yield</td>\n",
       "      <td>RNNY</td>\n",
       "      <td>2021</td>\n",
       "      <td>35</td>\n",
       "      <td>3</td>\n",
       "      <td>1</td>\n",
       "      <td>1</td>\n",
       "      <td>False</td>\n",
       "    </tr>\n",
       "    <tr>\n",
       "      <th>33305</th>\n",
       "      <td>2021-week_35</td>\n",
       "      <td>AD08JS6YLQ</td>\n",
       "      <td>SOLOMO365</td>\n",
       "      <td>GB</td>\n",
       "      <td>yes</td>\n",
       "      <td>NaN</td>\n",
       "      <td>Qality</td>\n",
       "      <td>DNNQ</td>\n",
       "      <td>2021</td>\n",
       "      <td>35</td>\n",
       "      <td>3</td>\n",
       "      <td>1</td>\n",
       "      <td>1</td>\n",
       "      <td>False</td>\n",
       "    </tr>\n",
       "    <tr>\n",
       "      <th>289949</th>\n",
       "      <td>2022-week_02</td>\n",
       "      <td>AD08C88G8R</td>\n",
       "      <td>RelayFoods</td>\n",
       "      <td>GB</td>\n",
       "      <td>no</td>\n",
       "      <td>True</td>\n",
       "      <td>Qality</td>\n",
       "      <td>XGBQ</td>\n",
       "      <td>2022</td>\n",
       "      <td>2</td>\n",
       "      <td>1</td>\n",
       "      <td>0</td>\n",
       "      <td>1</td>\n",
       "      <td>True</td>\n",
       "    </tr>\n",
       "  </tbody>\n",
       "</table>\n",
       "</div>"
      ],
      "text/plain": [
       "             week_id       ad_id               requester region is_success  \\\n",
       "50341   2021-week_36  AD00FXYTLI  Search Million Culture     IN         no   \n",
       "332082  2022-week_05  AD00NE8HF8                   Fancy     GB        yes   \n",
       "41958   2021-week_35  AD07N8J8H8   MoJoe Brewing Company     US        yes   \n",
       "33305   2021-week_35  AD08JS6YLQ               SOLOMO365     GB        yes   \n",
       "289949  2022-week_02  AD08C88G8R              RelayFoods     GB         no   \n",
       "\n",
       "       is_sever recommendation_type rec_provider  year  week  quarter  \\\n",
       "50341      True              Qality     UserPopQ  2021    36        3   \n",
       "332082      NaN              Qality         DNNQ  2022     5        1   \n",
       "41958       NaN               Yield         RNNY  2021    35        3   \n",
       "33305       NaN              Qality         DNNQ  2021    35        3   \n",
       "289949     True              Qality         XGBQ  2022     2        1   \n",
       "\n",
       "        new_success  ad_count  new_is_sever  \n",
       "50341             0         1          True  \n",
       "332082            1         1         False  \n",
       "41958             1         1         False  \n",
       "33305             1         1         False  \n",
       "289949            0         1          True  "
      ]
     },
     "execution_count": 13,
     "metadata": {},
     "output_type": "execute_result"
    }
   ],
   "source": [
    "ad_recs_annotated.sample(5)"
   ]
  },
  {
   "cell_type": "code",
   "execution_count": 14,
   "id": "e47805e0-3a3a-4fb7-b5f3-d56173881211",
   "metadata": {},
   "outputs": [
    {
     "data": {
      "text/plain": [
       "0"
      ]
     },
     "execution_count": 14,
     "metadata": {},
     "output_type": "execute_result"
    }
   ],
   "source": [
    "ad_recs_annotated.new_is_sever.isnull().sum()"
   ]
  },
  {
   "cell_type": "markdown",
   "id": "9759dde3-aa1b-4c65-adf9-71ebbcaa5b10",
   "metadata": {},
   "source": [
    "**Solution 6**"
   ]
  },
  {
   "cell_type": "code",
   "execution_count": 15,
   "id": "6eb75013-6877-471b-9dbd-0c87c0504077",
   "metadata": {},
   "outputs": [],
   "source": [
    "ad_recs_annotated['is_success'] = ad_recs_annotated['is_success'].str.capitalize()"
   ]
  },
  {
   "cell_type": "code",
   "execution_count": 16,
   "id": "c46cf637-c361-4fed-99cb-9ea0fbec0caa",
   "metadata": {},
   "outputs": [
    {
     "data": {
      "text/html": [
       "<div>\n",
       "<style scoped>\n",
       "    .dataframe tbody tr th:only-of-type {\n",
       "        vertical-align: middle;\n",
       "    }\n",
       "\n",
       "    .dataframe tbody tr th {\n",
       "        vertical-align: top;\n",
       "    }\n",
       "\n",
       "    .dataframe thead th {\n",
       "        text-align: right;\n",
       "    }\n",
       "</style>\n",
       "<table border=\"1\" class=\"dataframe\">\n",
       "  <thead>\n",
       "    <tr style=\"text-align: right;\">\n",
       "      <th></th>\n",
       "      <th>week_id</th>\n",
       "      <th>ad_id</th>\n",
       "      <th>requester</th>\n",
       "      <th>region</th>\n",
       "      <th>is_success</th>\n",
       "      <th>is_sever</th>\n",
       "      <th>recommendation_type</th>\n",
       "      <th>rec_provider</th>\n",
       "      <th>year</th>\n",
       "      <th>week</th>\n",
       "      <th>quarter</th>\n",
       "      <th>new_success</th>\n",
       "      <th>ad_count</th>\n",
       "      <th>new_is_sever</th>\n",
       "    </tr>\n",
       "  </thead>\n",
       "  <tbody>\n",
       "    <tr>\n",
       "      <th>277770</th>\n",
       "      <td>2022-week_01</td>\n",
       "      <td>AD08D77XZX</td>\n",
       "      <td>Puentes Company</td>\n",
       "      <td>IN</td>\n",
       "      <td>Yes</td>\n",
       "      <td>NaN</td>\n",
       "      <td>Yield</td>\n",
       "      <td>UserPopY</td>\n",
       "      <td>2022</td>\n",
       "      <td>1</td>\n",
       "      <td>1</td>\n",
       "      <td>1</td>\n",
       "      <td>1</td>\n",
       "      <td>False</td>\n",
       "    </tr>\n",
       "    <tr>\n",
       "      <th>47922</th>\n",
       "      <td>2021-week_36</td>\n",
       "      <td>AD0088G8OP</td>\n",
       "      <td>RelayFoods</td>\n",
       "      <td>GB</td>\n",
       "      <td>Yes</td>\n",
       "      <td>NaN</td>\n",
       "      <td>Qality</td>\n",
       "      <td>DNNQ</td>\n",
       "      <td>2021</td>\n",
       "      <td>36</td>\n",
       "      <td>3</td>\n",
       "      <td>1</td>\n",
       "      <td>1</td>\n",
       "      <td>False</td>\n",
       "    </tr>\n",
       "    <tr>\n",
       "      <th>176971</th>\n",
       "      <td>2021-week_45</td>\n",
       "      <td>AD088N87Q8</td>\n",
       "      <td>RelayFoods</td>\n",
       "      <td>GB</td>\n",
       "      <td>Yes</td>\n",
       "      <td>NaN</td>\n",
       "      <td>Qality</td>\n",
       "      <td>DNNQ</td>\n",
       "      <td>2021</td>\n",
       "      <td>45</td>\n",
       "      <td>4</td>\n",
       "      <td>1</td>\n",
       "      <td>1</td>\n",
       "      <td>False</td>\n",
       "    </tr>\n",
       "    <tr>\n",
       "      <th>242536</th>\n",
       "      <td>2021-week_49</td>\n",
       "      <td>AD086S88QH</td>\n",
       "      <td>Fancy</td>\n",
       "      <td>US</td>\n",
       "      <td>Yes</td>\n",
       "      <td>NaN</td>\n",
       "      <td>Qality</td>\n",
       "      <td>ManualQ</td>\n",
       "      <td>2021</td>\n",
       "      <td>49</td>\n",
       "      <td>4</td>\n",
       "      <td>1</td>\n",
       "      <td>1</td>\n",
       "      <td>False</td>\n",
       "    </tr>\n",
       "    <tr>\n",
       "      <th>193672</th>\n",
       "      <td>2021-week_46</td>\n",
       "      <td>AD07Q8JHPX</td>\n",
       "      <td>MoJoe Brewing Company</td>\n",
       "      <td>IN</td>\n",
       "      <td>Yes</td>\n",
       "      <td>NaN</td>\n",
       "      <td>Yield</td>\n",
       "      <td>UserPopY</td>\n",
       "      <td>2021</td>\n",
       "      <td>46</td>\n",
       "      <td>4</td>\n",
       "      <td>1</td>\n",
       "      <td>1</td>\n",
       "      <td>False</td>\n",
       "    </tr>\n",
       "  </tbody>\n",
       "</table>\n",
       "</div>"
      ],
      "text/plain": [
       "             week_id       ad_id              requester region is_success  \\\n",
       "277770  2022-week_01  AD08D77XZX        Puentes Company     IN        Yes   \n",
       "47922   2021-week_36  AD0088G8OP             RelayFoods     GB        Yes   \n",
       "176971  2021-week_45  AD088N87Q8             RelayFoods     GB        Yes   \n",
       "242536  2021-week_49  AD086S88QH                  Fancy     US        Yes   \n",
       "193672  2021-week_46  AD07Q8JHPX  MoJoe Brewing Company     IN        Yes   \n",
       "\n",
       "       is_sever recommendation_type rec_provider  year  week  quarter  \\\n",
       "277770      NaN               Yield     UserPopY  2022     1        1   \n",
       "47922       NaN              Qality         DNNQ  2021    36        3   \n",
       "176971      NaN              Qality         DNNQ  2021    45        4   \n",
       "242536      NaN              Qality      ManualQ  2021    49        4   \n",
       "193672      NaN               Yield     UserPopY  2021    46        4   \n",
       "\n",
       "        new_success  ad_count  new_is_sever  \n",
       "277770            1         1         False  \n",
       "47922             1         1         False  \n",
       "176971            1         1         False  \n",
       "242536            1         1         False  \n",
       "193672            1         1         False  "
      ]
     },
     "execution_count": 16,
     "metadata": {},
     "output_type": "execute_result"
    }
   ],
   "source": [
    "ad_recs_annotated.sample(5)"
   ]
  },
  {
   "cell_type": "markdown",
   "id": "e1a4707e-5673-4bec-bf9a-51aaf633b09f",
   "metadata": {},
   "source": [
    "### Subset selection"
   ]
  },
  {
   "cell_type": "markdown",
   "id": "6e4087a0-8706-471d-ae78-d9c47534f6b8",
   "metadata": {},
   "source": [
    "for each question, sub-select the data by using the conditional selection (`[]`) and the `.query` API. Use `.shape` on the subselection to obtain the result.  \n",
    "For example:\n",
    "`df.query('some_condition').shape`"
   ]
  },
  {
   "cell_type": "markdown",
   "id": "df326ef2-83c4-400f-bb51-f47db2401ee3",
   "metadata": {},
   "source": [
    "1. How many requests are there in US region? \n",
    "1. How many **successful** requests are there in US region? \n",
    "1. How many **successful** requests are there in US region, on week 52?\n",
    "1. How many requests where delivered by DDNQ, RRNY and UserPopQ together? \n",
    "1. How many requests where delivered by rule based providers? \n",
    "1. Select only the requests from 2021 - How many are there? \n",
    "1. Select the reqeusts from week 30 to week 40 - How many are there? \n",
    "1. Select all the data that comes from the most popular Ad\n",
    "1. Select all the data that comes from the least popular provider\n",
    "1. Select the data in which is_sever is None. How big is it? \n",
    "1. Select the data in which the requester is a 3 word company\n",
    "1. Select the data in which the requester is a 3 word company, and the ad_id has the letter 6 in it\n",
    "1. Select the data in which the requester is a 3 word company, and the multiplication of all the numbers in the ad_id is bigger than 30"
   ]
  },
  {
   "cell_type": "markdown",
   "id": "bc57d97c-258f-42b2-aee1-572a57f9bc21",
   "metadata": {},
   "source": [
    "**Solution 1**"
   ]
  },
  {
   "cell_type": "code",
   "execution_count": 17,
   "id": "6f31f651-36cb-4293-ac44-c9e6e27defff",
   "metadata": {},
   "outputs": [
    {
     "data": {
      "text/plain": [
       "103846"
      ]
     },
     "execution_count": 17,
     "metadata": {},
     "output_type": "execute_result"
    }
   ],
   "source": [
    "ad_recs_annotated.query('region == \"US\"').shape[0]"
   ]
  },
  {
   "cell_type": "code",
   "execution_count": 18,
   "id": "8484594b-8941-4ac5-b344-0934798e33cf",
   "metadata": {},
   "outputs": [
    {
     "data": {
      "text/plain": [
       "103846"
      ]
     },
     "execution_count": 18,
     "metadata": {},
     "output_type": "execute_result"
    }
   ],
   "source": [
    "ad_recs_annotated.loc[ad_recs_annotated.region == 'US'].shape[0]"
   ]
  },
  {
   "cell_type": "markdown",
   "id": "09a764e0-3454-45d1-9ad9-c6353f61d79e",
   "metadata": {},
   "source": [
    "**Solution 2**"
   ]
  },
  {
   "cell_type": "code",
   "execution_count": 19,
   "id": "4b5c911c-0b3d-4ecd-9a1d-5cd3a997947f",
   "metadata": {},
   "outputs": [
    {
     "data": {
      "text/plain": [
       "88918"
      ]
     },
     "execution_count": 19,
     "metadata": {},
     "output_type": "execute_result"
    }
   ],
   "source": [
    "ad_recs_annotated.loc[((ad_recs_annotated['region'] == 'US') & (ad_recs_annotated['new_success'] == 1))] .shape[0]"
   ]
  },
  {
   "cell_type": "code",
   "execution_count": 20,
   "id": "214cf1f5-47ea-4bd1-8334-b85d24e5b2f3",
   "metadata": {},
   "outputs": [
    {
     "data": {
      "text/plain": [
       "88918"
      ]
     },
     "execution_count": 20,
     "metadata": {},
     "output_type": "execute_result"
    }
   ],
   "source": [
    "ad_recs_annotated.query('region == \"US\" & new_success == 1').shape[0]"
   ]
  },
  {
   "cell_type": "markdown",
   "id": "aa600629-709d-430b-b183-d8cb6785cefc",
   "metadata": {},
   "source": [
    "**Solution 3**"
   ]
  },
  {
   "cell_type": "code",
   "execution_count": 21,
   "id": "ac645215-931c-43e3-a8f2-b050bff4fe12",
   "metadata": {},
   "outputs": [
    {
     "data": {
      "text/plain": [
       "3342"
      ]
     },
     "execution_count": 21,
     "metadata": {},
     "output_type": "execute_result"
    }
   ],
   "source": [
    "ad_recs_annotated.loc[((ad_recs_annotated['region'] == 'US') & (ad_recs_annotated['new_success'] == 1) &\n",
    "                      (ad_recs_annotated['week'] == 52))] .shape[0]"
   ]
  },
  {
   "cell_type": "code",
   "execution_count": 22,
   "id": "c304e275-3b8e-42bb-a0fe-bcdecfedf545",
   "metadata": {},
   "outputs": [
    {
     "data": {
      "text/plain": [
       "3342"
      ]
     },
     "execution_count": 22,
     "metadata": {},
     "output_type": "execute_result"
    }
   ],
   "source": [
    "ad_recs_annotated.query('region == \"US\" & new_success == 1 & week == 52').shape[0]"
   ]
  },
  {
   "cell_type": "markdown",
   "id": "f13c032c-55bc-47ff-bde4-1c5d60b57549",
   "metadata": {},
   "source": [
    "**Solution 4**"
   ]
  },
  {
   "cell_type": "code",
   "execution_count": 23,
   "id": "b7d636d0-a830-400c-8431-40c988c6e2c0",
   "metadata": {},
   "outputs": [
    {
     "data": {
      "text/plain": [
       "69937"
      ]
     },
     "execution_count": 23,
     "metadata": {},
     "output_type": "execute_result"
    }
   ],
   "source": [
    "ad_recs_annotated.loc[((ad_recs_annotated['rec_provider'] == 'DDNQ') | (ad_recs_annotated['rec_provider'] == 'RRNY')| \n",
    "                       (ad_recs_annotated['rec_provider'] == 'UserPopQ'))].shape[0]"
   ]
  },
  {
   "cell_type": "code",
   "execution_count": 24,
   "id": "007649c8-c98f-479c-be57-9d4690b33998",
   "metadata": {},
   "outputs": [
    {
     "data": {
      "text/plain": [
       "69937"
      ]
     },
     "execution_count": 24,
     "metadata": {},
     "output_type": "execute_result"
    }
   ],
   "source": [
    "ad_recs_annotated.query('rec_provider == \"DDNQ\" | rec_provider == \"RRNY\" | rec_provider == \"UserPopQ\"').shape[0]"
   ]
  },
  {
   "cell_type": "markdown",
   "id": "6dff6abb-1c1c-488c-a84a-1956faeebf5c",
   "metadata": {},
   "source": [
    "**Solution 5**"
   ]
  },
  {
   "cell_type": "code",
   "execution_count": 25,
   "id": "94c19c80-a440-4aae-9517-016cf0771795",
   "metadata": {},
   "outputs": [
    {
     "data": {
      "text/plain": [
       "28154"
      ]
     },
     "execution_count": 25,
     "metadata": {},
     "output_type": "execute_result"
    }
   ],
   "source": [
    "ad_recs_annotated.loc[((ad_recs_annotated['rec_provider'] == 'RuleBasedY'))].shape[0]"
   ]
  },
  {
   "cell_type": "code",
   "execution_count": 27,
   "id": "fdfbac2e-f14e-471d-b179-88619e15609d",
   "metadata": {},
   "outputs": [
    {
     "data": {
      "text/plain": [
       "28154"
      ]
     },
     "execution_count": 27,
     "metadata": {},
     "output_type": "execute_result"
    }
   ],
   "source": [
    "ad_recs_annotated.query('rec_provider == \"RuleBasedY\"').shape[0]"
   ]
  },
  {
   "cell_type": "markdown",
   "id": "259a1396-b92a-45c5-83b4-4a8aa5fa5ded",
   "metadata": {},
   "source": [
    "**Solution 6**"
   ]
  },
  {
   "cell_type": "code",
   "execution_count": 26,
   "id": "c0ec3c07-505c-434b-8efa-a946935fb483",
   "metadata": {},
   "outputs": [
    {
     "data": {
      "text/plain": [
       "373788"
      ]
     },
     "execution_count": 26,
     "metadata": {},
     "output_type": "execute_result"
    }
   ],
   "source": [
    "ad_recs_annotated.loc[((ad_recs_annotated['year'] >= 2021))].shape[0]"
   ]
  },
  {
   "cell_type": "code",
   "execution_count": 27,
   "id": "ad59098d-ee0c-47f8-9f57-7e40f15542d2",
   "metadata": {},
   "outputs": [
    {
     "data": {
      "text/plain": [
       "373788"
      ]
     },
     "execution_count": 27,
     "metadata": {},
     "output_type": "execute_result"
    }
   ],
   "source": [
    "ad_recs_annotated.query('year >= 2021').shape[0]"
   ]
  },
  {
   "cell_type": "markdown",
   "id": "f0e2b30d-bd07-4aee-bd31-3b63a986003e",
   "metadata": {},
   "source": [
    "**Solution 7**"
   ]
  },
  {
   "cell_type": "code",
   "execution_count": 28,
   "id": "da2591bb-304c-4658-8982-1e7ce0f13ec8",
   "metadata": {},
   "outputs": [
    {
     "data": {
      "text/plain": [
       "115051"
      ]
     },
     "execution_count": 28,
     "metadata": {},
     "output_type": "execute_result"
    }
   ],
   "source": [
    "ad_recs_annotated.loc[((ad_recs_annotated['week'] >= 30) &\n",
    "                       (ad_recs_annotated['week'] <= 40))].shape[0]"
   ]
  },
  {
   "cell_type": "code",
   "execution_count": 29,
   "id": "a11db708-8bc2-4791-a71c-1daa4b56f61a",
   "metadata": {},
   "outputs": [
    {
     "data": {
      "text/plain": [
       "115051"
      ]
     },
     "execution_count": 29,
     "metadata": {},
     "output_type": "execute_result"
    }
   ],
   "source": [
    "ad_recs_annotated.query('week >= 30 & week <= 40').shape[0]"
   ]
  },
  {
   "cell_type": "markdown",
   "id": "10ad0bd9-3c4f-44c5-9318-69cb53a5913e",
   "metadata": {},
   "source": [
    "**Solution 8**"
   ]
  },
  {
   "cell_type": "code",
   "execution_count": 30,
   "id": "1d52b7f3-a9c7-4e25-a611-cf8d96c1c8e8",
   "metadata": {},
   "outputs": [
    {
     "name": "stdout",
     "output_type": "stream",
     "text": [
      "AD07PFFMP9\n"
     ]
    }
   ],
   "source": [
    "most_popular_ad = ad_recs_annotated['ad_id'].value_counts().idxmax() # I've assumed that the most popular ad is the ad with the higher frequency\n",
    "print(most_popular_ad)"
   ]
  },
  {
   "cell_type": "code",
   "execution_count": 31,
   "id": "fa8fd216-4861-4b33-b495-34ea0bebb534",
   "metadata": {},
   "outputs": [
    {
     "name": "stdout",
     "output_type": "stream",
     "text": [
      "AD07PFFMP9    247\n",
      "AD098SWYF6    239\n",
      "AD08C8RR8J    138\n",
      "AD0886VY87     99\n",
      "AD08888888     96\n",
      "             ... \n",
      "AD07Y8JSHJ      1\n",
      "AD0888J7AO      1\n",
      "AD087G7SHR      1\n",
      "AD086QCZGJ      1\n",
      "AD08FWNFDO      1\n",
      "Name: ad_id, Length: 300727, dtype: int64\n"
     ]
    }
   ],
   "source": [
    "print(ad_recs_annotated['ad_id'].value_counts()) # In order to prove that I get the same result as above"
   ]
  },
  {
   "cell_type": "code",
   "execution_count": 32,
   "id": "04939788-563a-4d01-a9c7-a61dd69f7bf4",
   "metadata": {},
   "outputs": [
    {
     "data": {
      "text/plain": [
       "247"
      ]
     },
     "execution_count": 32,
     "metadata": {},
     "output_type": "execute_result"
    }
   ],
   "source": [
    "ad_recs_annotated.query('ad_id == @most_popular_ad').shape[0]"
   ]
  },
  {
   "cell_type": "code",
   "execution_count": 33,
   "id": "35929fa0-4655-4d4e-8a39-585a57846aba",
   "metadata": {},
   "outputs": [
    {
     "data": {
      "text/plain": [
       "247"
      ]
     },
     "execution_count": 33,
     "metadata": {},
     "output_type": "execute_result"
    }
   ],
   "source": [
    "ad_recs_annotated.loc[ad_recs_annotated.ad_id == most_popular_ad].shape[0]"
   ]
  },
  {
   "cell_type": "markdown",
   "id": "9c4ba16f-cc96-4c4a-b10a-cc6a7fecd509",
   "metadata": {},
   "source": [
    "**Solution 9**"
   ]
  },
  {
   "cell_type": "code",
   "execution_count": 34,
   "id": "be3567e5-9702-44cb-8ccf-a1fd17ab21e7",
   "metadata": {},
   "outputs": [
    {
     "name": "stdout",
     "output_type": "stream",
     "text": [
      "UserPopSelectionY\n"
     ]
    }
   ],
   "source": [
    "least_popular_provider = ad_recs_annotated['rec_provider'].value_counts().index[-1]\n",
    "print(least_popular_provider)"
   ]
  },
  {
   "cell_type": "code",
   "execution_count": 35,
   "id": "4866702b-89f3-47af-a34f-7d7bba9ce978",
   "metadata": {},
   "outputs": [
    {
     "name": "stdout",
     "output_type": "stream",
     "text": [
      "DNNQ                 117424\n",
      "UserPopQ              69937\n",
      "DNNY                  45116\n",
      "UserPopY              38600\n",
      "RuleBasedY            28154\n",
      "RNNQ                  20983\n",
      "ManualQ               13844\n",
      "RNNY                  12732\n",
      "XGBQ                  12250\n",
      "XGBY                   4276\n",
      "BooksY                 4150\n",
      "UserPopSelectionQ      2417\n",
      "ManualY                1982\n",
      "BooksQ                 1720\n",
      "RuleBased               182\n",
      "UserPopSelectionY        21\n",
      "Name: rec_provider, dtype: int64\n"
     ]
    }
   ],
   "source": [
    "print(ad_recs_annotated['rec_provider'].value_counts()) #in order to prove that i get the same result as above"
   ]
  },
  {
   "cell_type": "code",
   "execution_count": 36,
   "id": "26448483-c7da-4415-bac9-5ed6a5ee6d19",
   "metadata": {},
   "outputs": [
    {
     "data": {
      "text/plain": [
       "21"
      ]
     },
     "execution_count": 36,
     "metadata": {},
     "output_type": "execute_result"
    }
   ],
   "source": [
    "ad_recs_annotated.query('rec_provider == @least_popular_provider').shape[0]"
   ]
  },
  {
   "cell_type": "code",
   "execution_count": 37,
   "id": "380d22cc-df84-4b4e-beea-b37c03b354e5",
   "metadata": {},
   "outputs": [
    {
     "data": {
      "text/plain": [
       "21"
      ]
     },
     "execution_count": 37,
     "metadata": {},
     "output_type": "execute_result"
    }
   ],
   "source": [
    "ad_recs_annotated.loc[ad_recs_annotated.rec_provider == least_popular_provider].shape[0]"
   ]
  },
  {
   "cell_type": "markdown",
   "id": "84990e89-0b7d-44eb-8eb6-eb321eb71c59",
   "metadata": {},
   "source": [
    "**Solution 10**"
   ]
  },
  {
   "cell_type": "code",
   "execution_count": 38,
   "id": "e15aeba3-85f6-4d30-8603-a05c19033605",
   "metadata": {},
   "outputs": [
    {
     "data": {
      "text/plain": [
       "304195"
      ]
     },
     "execution_count": 38,
     "metadata": {},
     "output_type": "execute_result"
    }
   ],
   "source": [
    "ad_recs_annotated['is_sever'].isna().sum()"
   ]
  },
  {
   "cell_type": "markdown",
   "id": "e0361c82-ba3a-4d2f-8716-731e0be933db",
   "metadata": {},
   "source": [
    "**Solution 11**"
   ]
  },
  {
   "cell_type": "code",
   "execution_count": 39,
   "id": "58faa5b2-3995-478b-94fe-ed9d231b8264",
   "metadata": {},
   "outputs": [
    {
     "data": {
      "text/plain": [
       "118141"
      ]
     },
     "execution_count": 39,
     "metadata": {},
     "output_type": "execute_result"
    }
   ],
   "source": [
    "ad_recs_annotated.loc[(ad_recs_annotated['requester'].str.count(' ') + 1) == 3].shape[0]"
   ]
  },
  {
   "cell_type": "markdown",
   "id": "da074c7d-cbb7-4f19-aa82-d688886e9248",
   "metadata": {},
   "source": [
    "**Solution 12**"
   ]
  },
  {
   "cell_type": "code",
   "execution_count": 40,
   "id": "ec6c32ac-b1f4-4772-a877-19f67c6b5638",
   "metadata": {},
   "outputs": [
    {
     "data": {
      "text/plain": [
       "24197"
      ]
     },
     "execution_count": 40,
     "metadata": {},
     "output_type": "execute_result"
    }
   ],
   "source": [
    "ad_recs_annotated.loc[( (ad_recs_annotated['requester'].str.count(' ') + 1) == 3 ) & \n",
    "                      (ad_recs_annotated['ad_id'].str.contains('6'))].shape[0]"
   ]
  },
  {
   "cell_type": "markdown",
   "id": "d8908705-5f74-40f8-8b31-64dbd1a976de",
   "metadata": {},
   "source": [
    "**Solution 13**"
   ]
  },
  {
   "cell_type": "code",
   "execution_count": 41,
   "id": "5ea6ad9e-9039-4137-a01e-1ec123bb60a0",
   "metadata": {},
   "outputs": [
    {
     "data": {
      "text/plain": [
       "0             0088\n",
       "1             07 8\n",
       "2           08 6 9\n",
       "3         89608808\n",
       "4             07 6\n",
       "            ...   \n",
       "373783        08 8\n",
       "373784        07 8\n",
       "373785      096 88\n",
       "373786          08\n",
       "373787        00 8\n",
       "Name: ad_id, Length: 373788, dtype: object"
      ]
     },
     "execution_count": 41,
     "metadata": {},
     "output_type": "execute_result"
    }
   ],
   "source": [
    "import re\n",
    "def find_number(text):\n",
    "    num = re.findall(r'[0-9]+',text)\n",
    "    return \" \".join(num)\n",
    "\n",
    "number=ad_recs_annotated['ad_id'].apply(lambda x: find_number(x))\n",
    "number.str.strip()"
   ]
  },
  {
   "cell_type": "code",
   "execution_count": 43,
   "id": "8df62522-0b85-46b2-bc5b-e66686edbd2c",
   "metadata": {},
   "outputs": [],
   "source": [
    "def remove(string):\n",
    "    return string.replace(\" \", \"\")\n",
    "number_no_spaces = number.apply(lambda x: remove(x))"
   ]
  },
  {
   "cell_type": "code",
   "execution_count": 44,
   "id": "ec8e636b-07eb-4529-b30a-07ffc858e812",
   "metadata": {},
   "outputs": [],
   "source": [
    "number_no_spaces = number_no_spaces.astype('int')"
   ]
  },
  {
   "cell_type": "code",
   "execution_count": 45,
   "id": "4f013825-2290-4715-ada3-d5e0c2f3a6f3",
   "metadata": {},
   "outputs": [],
   "source": [
    "def no_mult(x):\n",
    "    sum = 1\n",
    "\n",
    "    while x > 0:\n",
    "        d = x%10\n",
    "        x = x//10\n",
    "        sum *= d\n",
    "    return sum\n",
    "\n",
    "numb_mult=number_no_spaces.apply(lambda x: no_mult(x))"
   ]
  },
  {
   "cell_type": "code",
   "execution_count": 46,
   "id": "b401709d-3dea-45da-9749-8af35d2856ab",
   "metadata": {},
   "outputs": [
    {
     "data": {
      "text/html": [
       "<div>\n",
       "<style scoped>\n",
       "    .dataframe tbody tr th:only-of-type {\n",
       "        vertical-align: middle;\n",
       "    }\n",
       "\n",
       "    .dataframe tbody tr th {\n",
       "        vertical-align: top;\n",
       "    }\n",
       "\n",
       "    .dataframe thead th {\n",
       "        text-align: right;\n",
       "    }\n",
       "</style>\n",
       "<table border=\"1\" class=\"dataframe\">\n",
       "  <thead>\n",
       "    <tr style=\"text-align: right;\">\n",
       "      <th></th>\n",
       "      <th>week_id</th>\n",
       "      <th>ad_id</th>\n",
       "      <th>requester</th>\n",
       "      <th>region</th>\n",
       "      <th>is_success</th>\n",
       "      <th>is_sever</th>\n",
       "      <th>recommendation_type</th>\n",
       "      <th>rec_provider</th>\n",
       "      <th>year</th>\n",
       "      <th>week</th>\n",
       "      <th>quarter</th>\n",
       "      <th>new_success</th>\n",
       "      <th>ad_count</th>\n",
       "      <th>new_is_sever</th>\n",
       "    </tr>\n",
       "  </thead>\n",
       "  <tbody>\n",
       "    <tr>\n",
       "      <th>0</th>\n",
       "      <td>2021-week_33</td>\n",
       "      <td>AD0088VOS</td>\n",
       "      <td>Search Million Culture</td>\n",
       "      <td>DE</td>\n",
       "      <td>Yes</td>\n",
       "      <td>NaN</td>\n",
       "      <td>Qality</td>\n",
       "      <td>DNNQ</td>\n",
       "      <td>2021</td>\n",
       "      <td>33</td>\n",
       "      <td>3</td>\n",
       "      <td>1</td>\n",
       "      <td>1</td>\n",
       "      <td>False</td>\n",
       "    </tr>\n",
       "    <tr>\n",
       "      <th>1</th>\n",
       "      <td>2021-week_33</td>\n",
       "      <td>AD07KYS8JM</td>\n",
       "      <td>MoJoe Brewing Company</td>\n",
       "      <td>DE</td>\n",
       "      <td>Yes</td>\n",
       "      <td>NaN</td>\n",
       "      <td>Yield</td>\n",
       "      <td>DNNY</td>\n",
       "      <td>2021</td>\n",
       "      <td>33</td>\n",
       "      <td>3</td>\n",
       "      <td>1</td>\n",
       "      <td>1</td>\n",
       "      <td>False</td>\n",
       "    </tr>\n",
       "    <tr>\n",
       "      <th>2</th>\n",
       "      <td>2021-week_33</td>\n",
       "      <td>AD08PDP6Y9</td>\n",
       "      <td>Search Million Culture</td>\n",
       "      <td>DE</td>\n",
       "      <td>Yes</td>\n",
       "      <td>NaN</td>\n",
       "      <td>Qality</td>\n",
       "      <td>DNNQ</td>\n",
       "      <td>2021</td>\n",
       "      <td>33</td>\n",
       "      <td>3</td>\n",
       "      <td>1</td>\n",
       "      <td>1</td>\n",
       "      <td>False</td>\n",
       "    </tr>\n",
       "    <tr>\n",
       "      <th>4</th>\n",
       "      <td>2021-week_33</td>\n",
       "      <td>AD07CMVHP6</td>\n",
       "      <td>Search Million Culture</td>\n",
       "      <td>DE</td>\n",
       "      <td>Yes</td>\n",
       "      <td>NaN</td>\n",
       "      <td>Qality</td>\n",
       "      <td>DNNQ</td>\n",
       "      <td>2021</td>\n",
       "      <td>33</td>\n",
       "      <td>3</td>\n",
       "      <td>1</td>\n",
       "      <td>1</td>\n",
       "      <td>False</td>\n",
       "    </tr>\n",
       "    <tr>\n",
       "      <th>7</th>\n",
       "      <td>2021-week_33</td>\n",
       "      <td>AD07NMJ88F</td>\n",
       "      <td>Search Million Culture</td>\n",
       "      <td>DE</td>\n",
       "      <td>Yes</td>\n",
       "      <td>NaN</td>\n",
       "      <td>Qality</td>\n",
       "      <td>DNNQ</td>\n",
       "      <td>2021</td>\n",
       "      <td>33</td>\n",
       "      <td>3</td>\n",
       "      <td>1</td>\n",
       "      <td>1</td>\n",
       "      <td>False</td>\n",
       "    </tr>\n",
       "    <tr>\n",
       "      <th>...</th>\n",
       "      <td>...</td>\n",
       "      <td>...</td>\n",
       "      <td>...</td>\n",
       "      <td>...</td>\n",
       "      <td>...</td>\n",
       "      <td>...</td>\n",
       "      <td>...</td>\n",
       "      <td>...</td>\n",
       "      <td>...</td>\n",
       "      <td>...</td>\n",
       "      <td>...</td>\n",
       "      <td>...</td>\n",
       "      <td>...</td>\n",
       "      <td>...</td>\n",
       "    </tr>\n",
       "    <tr>\n",
       "      <th>373663</th>\n",
       "      <td>2022-week_52</td>\n",
       "      <td>AD09G98VJZ</td>\n",
       "      <td>MoJoe Brewing Company</td>\n",
       "      <td>US</td>\n",
       "      <td>Yes</td>\n",
       "      <td>NaN</td>\n",
       "      <td>Yield</td>\n",
       "      <td>RNNY</td>\n",
       "      <td>2022</td>\n",
       "      <td>52</td>\n",
       "      <td>4</td>\n",
       "      <td>1</td>\n",
       "      <td>1</td>\n",
       "      <td>False</td>\n",
       "    </tr>\n",
       "    <tr>\n",
       "      <th>373689</th>\n",
       "      <td>2022-week_52</td>\n",
       "      <td>AD078WDG8W</td>\n",
       "      <td>MoJoe Brewing Company</td>\n",
       "      <td>US</td>\n",
       "      <td>Yes</td>\n",
       "      <td>NaN</td>\n",
       "      <td>Yield</td>\n",
       "      <td>RNNY</td>\n",
       "      <td>2022</td>\n",
       "      <td>52</td>\n",
       "      <td>4</td>\n",
       "      <td>1</td>\n",
       "      <td>1</td>\n",
       "      <td>False</td>\n",
       "    </tr>\n",
       "    <tr>\n",
       "      <th>373691</th>\n",
       "      <td>2022-week_52</td>\n",
       "      <td>AD08M86WW8</td>\n",
       "      <td>MoJoe Brewing Company</td>\n",
       "      <td>US</td>\n",
       "      <td>Yes</td>\n",
       "      <td>NaN</td>\n",
       "      <td>Yield</td>\n",
       "      <td>DNNY</td>\n",
       "      <td>2022</td>\n",
       "      <td>52</td>\n",
       "      <td>4</td>\n",
       "      <td>1</td>\n",
       "      <td>1</td>\n",
       "      <td>False</td>\n",
       "    </tr>\n",
       "    <tr>\n",
       "      <th>373722</th>\n",
       "      <td>2022-week_52</td>\n",
       "      <td>AD09C8X6VY</td>\n",
       "      <td>Search Million Culture</td>\n",
       "      <td>US</td>\n",
       "      <td>Yes</td>\n",
       "      <td>NaN</td>\n",
       "      <td>Qality</td>\n",
       "      <td>DNNQ</td>\n",
       "      <td>2022</td>\n",
       "      <td>52</td>\n",
       "      <td>4</td>\n",
       "      <td>1</td>\n",
       "      <td>1</td>\n",
       "      <td>False</td>\n",
       "    </tr>\n",
       "    <tr>\n",
       "      <th>373728</th>\n",
       "      <td>2022-week_52</td>\n",
       "      <td>AD08P8L8YQ</td>\n",
       "      <td>MoJoe Brewing Company</td>\n",
       "      <td>US</td>\n",
       "      <td>No</td>\n",
       "      <td>True</td>\n",
       "      <td>Yield</td>\n",
       "      <td>DNNY</td>\n",
       "      <td>2022</td>\n",
       "      <td>52</td>\n",
       "      <td>4</td>\n",
       "      <td>0</td>\n",
       "      <td>1</td>\n",
       "      <td>True</td>\n",
       "    </tr>\n",
       "  </tbody>\n",
       "</table>\n",
       "<p>95585 rows × 14 columns</p>\n",
       "</div>"
      ],
      "text/plain": [
       "             week_id       ad_id               requester region is_success  \\\n",
       "0       2021-week_33   AD0088VOS  Search Million Culture     DE        Yes   \n",
       "1       2021-week_33  AD07KYS8JM   MoJoe Brewing Company     DE        Yes   \n",
       "2       2021-week_33  AD08PDP6Y9  Search Million Culture     DE        Yes   \n",
       "4       2021-week_33  AD07CMVHP6  Search Million Culture     DE        Yes   \n",
       "7       2021-week_33  AD07NMJ88F  Search Million Culture     DE        Yes   \n",
       "...              ...         ...                     ...    ...        ...   \n",
       "373663  2022-week_52  AD09G98VJZ   MoJoe Brewing Company     US        Yes   \n",
       "373689  2022-week_52  AD078WDG8W   MoJoe Brewing Company     US        Yes   \n",
       "373691  2022-week_52  AD08M86WW8   MoJoe Brewing Company     US        Yes   \n",
       "373722  2022-week_52  AD09C8X6VY  Search Million Culture     US        Yes   \n",
       "373728  2022-week_52  AD08P8L8YQ   MoJoe Brewing Company     US         No   \n",
       "\n",
       "       is_sever recommendation_type rec_provider  year  week  quarter  \\\n",
       "0           NaN              Qality         DNNQ  2021    33        3   \n",
       "1           NaN               Yield         DNNY  2021    33        3   \n",
       "2           NaN              Qality         DNNQ  2021    33        3   \n",
       "4           NaN              Qality         DNNQ  2021    33        3   \n",
       "7           NaN              Qality         DNNQ  2021    33        3   \n",
       "...         ...                 ...          ...   ...   ...      ...   \n",
       "373663      NaN               Yield         RNNY  2022    52        4   \n",
       "373689      NaN               Yield         RNNY  2022    52        4   \n",
       "373691      NaN               Yield         DNNY  2022    52        4   \n",
       "373722      NaN              Qality         DNNQ  2022    52        4   \n",
       "373728     True               Yield         DNNY  2022    52        4   \n",
       "\n",
       "        new_success  ad_count  new_is_sever  \n",
       "0                 1         1         False  \n",
       "1                 1         1         False  \n",
       "2                 1         1         False  \n",
       "4                 1         1         False  \n",
       "7                 1         1         False  \n",
       "...             ...       ...           ...  \n",
       "373663            1         1         False  \n",
       "373689            1         1         False  \n",
       "373691            1         1         False  \n",
       "373722            1         1         False  \n",
       "373728            0         1          True  \n",
       "\n",
       "[95585 rows x 14 columns]"
      ]
     },
     "execution_count": 46,
     "metadata": {},
     "output_type": "execute_result"
    }
   ],
   "source": [
    "ad_recs_annotated.loc[( (ad_recs_annotated['requester'].str.count(' ') + 1) == 3 ) & \n",
    "                      (numb_mult > 30)]"
   ]
  },
  {
   "cell_type": "markdown",
   "id": "11d8b056-c777-490a-b26d-949ee8755561",
   "metadata": {},
   "source": [
    "### Analysis"
   ]
  },
  {
   "cell_type": "markdown",
   "id": "ccae8707-2c86-424a-bd55-73496219adbe",
   "metadata": {},
   "source": [
    "1. How many weeks available in the data? Are there any missing weeks? \n",
    "1. How many regions available in the data? Are there any missing weeks per region? \n",
    "1. How many ads are being sent to annotation in each region per week?\n",
    "1. How many None values are there in is_sever column? \n",
    "1. Are ads being sent more than one time in a given week? what is the ad_id that was sent the most in a given week? (e.g. ad X where sent 50 times in week Y)\n",
    "1. Are there ads that are being sent in more than one week?\n",
    "groupby ad_id week idmax\n",
    "   1. Which is the ad that was sent in most amount of weeks (e.g. ad X where sent in Y different weeks)\n",
    "   2. What are the weeks that the ad from above was sent in? \n",
    "   3. Is there an Ad that was succsefull in one week, but not succesfful in a different week? Show one.\n",
    "1. When is_sever is None, what is the number of successful requests? What is the number of non-successful requests? What do you learn from it about the reason for Nones in the first place? \n",
    "1. Per each region, What is the Quality/Yield traffic proportion WoW? week over week, over time\n",
    "Proportion between quality and yield. needs to be sum = 1, per week\n",
    "\n",
    "1. How many different reqeusters are there? \n",
    "1. Which are the top 5 requesters per region? \n",
    "1. Which are the different rec_proivders?\n",
    "1. Are there different rec providers per region? \n",
    "1. Are there different rec providers per rec type?\n",
    "1. What are the notation rules distinguishing between quality vs yielding providers?\n",
    "meafien a shmot shel a provider, mistaim v \"q\" = quality\n",
    "kol ma sh magia mi provider q u mi quiality\n",
    "\n",
    "\n",
    "1. Which is the most successful region of operation? \n",
    "1. Which is the most successful rec provider per each region? \n",
    "1. Present a table with a success rate, sever defects rate and CI (for each metric) per region\n",
    "1. Present a table with a success rate, sever defects rate and CI (for each metric) per rec provider\n",
    "1. Present a table with a success rate, sever defects rate and CI (for each metric) per region and rec provider combinations\n",
    "1. Present a table with a success rate, sever defects rate and CI (for each metric) per rec type (Q/Y)\n",
    "1. Present a table with a success rate, sever defects rate and CI (for each metric) per rec type and region\n",
    "1. Present WoW table/graph with success rate and CI (see image below) per region\n",
    "1. Present WoW table/graph with success rate and CI (see image below) per region and rec type\n",
    "1. Present WoW table/graph with success rate and CI (see image below) per region and rec provider\n",
    "1. Which are the requester to which we succeed the most?\n",
    "1. Which are the requester to which we produce the most critical defects?\n",
    "1. What is the overall success rate trend over time? \n",
    "1. What is the overall sever defect rate trend over time? \n",
    "1. Preset a WoW graph showing the number of requests per customer in each region (hint: [use stacked bars](https://plotly.com/python/bar-charts/)), from it:\n",
    "  1. Identify major traffic shape changes (addition/removal) of major clients\n",
    "1. Preset a WoW graph showing the **requests proportion** per customer in each region (hint: [use stacked bars](https://plotly.com/python/bar-charts/)), from it:\n",
    "  1. Identify major traffic shape changes (addition/removal) of major clients\n"
   ]
  },
  {
   "cell_type": "markdown",
   "id": "56352899-28d4-4eb8-b92f-e45c89b4d11b",
   "metadata": {},
   "source": [
    "**Solution 1**"
   ]
  },
  {
   "cell_type": "code",
   "execution_count": 47,
   "id": "dd8c0ddd-7111-4010-a083-0652fcab8edf",
   "metadata": {},
   "outputs": [
    {
     "data": {
      "text/plain": [
       "26"
      ]
     },
     "execution_count": 47,
     "metadata": {},
     "output_type": "execute_result"
    }
   ],
   "source": [
    "ad_recs_annotated.value_counts('week').count()"
   ]
  },
  {
   "cell_type": "code",
   "execution_count": 48,
   "id": "fb833257-8e9d-41ef-beba-cf0aa2da4895",
   "metadata": {},
   "outputs": [
    {
     "data": {
      "text/plain": [
       "373788"
      ]
     },
     "execution_count": 48,
     "metadata": {},
     "output_type": "execute_result"
    }
   ],
   "source": [
    "ad_recs_annotated['week'].isnull().count()"
   ]
  },
  {
   "cell_type": "markdown",
   "id": "b97b1a77-221b-44a5-89cc-fc5bfa7a74fe",
   "metadata": {},
   "source": [
    "**Solution 2**"
   ]
  },
  {
   "cell_type": "code",
   "execution_count": 49,
   "id": "ee075396-c68e-4387-8bb6-177276780d6a",
   "metadata": {},
   "outputs": [
    {
     "data": {
      "text/plain": [
       "5"
      ]
     },
     "execution_count": 49,
     "metadata": {},
     "output_type": "execute_result"
    }
   ],
   "source": [
    "ad_recs_annotated.value_counts('region').count()"
   ]
  },
  {
   "cell_type": "markdown",
   "id": "9ae3f4f1-140d-46bc-93da-ed77c734e9fa",
   "metadata": {},
   "source": [
    "**Solution 3**"
   ]
  },
  {
   "cell_type": "code",
   "execution_count": 50,
   "id": "c980ea6d-2db6-4cfb-abe5-30059a010134",
   "metadata": {},
   "outputs": [
    {
     "data": {
      "text/html": [
       "<div>\n",
       "<style scoped>\n",
       "    .dataframe tbody tr th:only-of-type {\n",
       "        vertical-align: middle;\n",
       "    }\n",
       "\n",
       "    .dataframe tbody tr th {\n",
       "        vertical-align: top;\n",
       "    }\n",
       "\n",
       "    .dataframe thead th {\n",
       "        text-align: right;\n",
       "    }\n",
       "</style>\n",
       "<table border=\"1\" class=\"dataframe\">\n",
       "  <thead>\n",
       "    <tr style=\"text-align: right;\">\n",
       "      <th></th>\n",
       "      <th>region</th>\n",
       "      <th>week</th>\n",
       "      <th>Total Ads</th>\n",
       "    </tr>\n",
       "  </thead>\n",
       "  <tbody>\n",
       "    <tr>\n",
       "      <th>0</th>\n",
       "      <td>US</td>\n",
       "      <td>2</td>\n",
       "      <td>4016</td>\n",
       "    </tr>\n",
       "    <tr>\n",
       "      <th>1</th>\n",
       "      <td>US</td>\n",
       "      <td>48</td>\n",
       "      <td>4010</td>\n",
       "    </tr>\n",
       "    <tr>\n",
       "      <th>2</th>\n",
       "      <td>US</td>\n",
       "      <td>1</td>\n",
       "      <td>4009</td>\n",
       "    </tr>\n",
       "    <tr>\n",
       "      <th>3</th>\n",
       "      <td>US</td>\n",
       "      <td>34</td>\n",
       "      <td>4006</td>\n",
       "    </tr>\n",
       "    <tr>\n",
       "      <th>4</th>\n",
       "      <td>US</td>\n",
       "      <td>42</td>\n",
       "      <td>4004</td>\n",
       "    </tr>\n",
       "    <tr>\n",
       "      <th>...</th>\n",
       "      <td>...</td>\n",
       "      <td>...</td>\n",
       "      <td>...</td>\n",
       "    </tr>\n",
       "    <tr>\n",
       "      <th>124</th>\n",
       "      <td>JP</td>\n",
       "      <td>4</td>\n",
       "      <td>1586</td>\n",
       "    </tr>\n",
       "    <tr>\n",
       "      <th>125</th>\n",
       "      <td>JP</td>\n",
       "      <td>35</td>\n",
       "      <td>1580</td>\n",
       "    </tr>\n",
       "    <tr>\n",
       "      <th>126</th>\n",
       "      <td>JP</td>\n",
       "      <td>3</td>\n",
       "      <td>1578</td>\n",
       "    </tr>\n",
       "    <tr>\n",
       "      <th>127</th>\n",
       "      <td>JP</td>\n",
       "      <td>49</td>\n",
       "      <td>1577</td>\n",
       "    </tr>\n",
       "    <tr>\n",
       "      <th>128</th>\n",
       "      <td>JP</td>\n",
       "      <td>41</td>\n",
       "      <td>1573</td>\n",
       "    </tr>\n",
       "  </tbody>\n",
       "</table>\n",
       "<p>129 rows × 3 columns</p>\n",
       "</div>"
      ],
      "text/plain": [
       "    region  week  Total Ads\n",
       "0       US     2       4016\n",
       "1       US    48       4010\n",
       "2       US     1       4009\n",
       "3       US    34       4006\n",
       "4       US    42       4004\n",
       "..     ...   ...        ...\n",
       "124     JP     4       1586\n",
       "125     JP    35       1580\n",
       "126     JP     3       1578\n",
       "127     JP    49       1577\n",
       "128     JP    41       1573\n",
       "\n",
       "[129 rows x 3 columns]"
      ]
     },
     "execution_count": 50,
     "metadata": {},
     "output_type": "execute_result"
    }
   ],
   "source": [
    "ad_recs_annotated[[\"region\",\"week\"]].value_counts().reset_index(name ='Total Ads')"
   ]
  },
  {
   "cell_type": "markdown",
   "id": "3cf5d86f-e837-4a67-9c6f-b225d540e3ab",
   "metadata": {},
   "source": [
    "**Solution 4**"
   ]
  },
  {
   "cell_type": "code",
   "execution_count": 51,
   "id": "4156d87c-9d5c-45e3-9787-0e87d6b61771",
   "metadata": {},
   "outputs": [
    {
     "data": {
      "text/plain": [
       "373788"
      ]
     },
     "execution_count": 51,
     "metadata": {},
     "output_type": "execute_result"
    }
   ],
   "source": [
    "ad_recs_annotated['is_sever'].isnull().count()"
   ]
  },
  {
   "cell_type": "markdown",
   "id": "a434024f-680b-4d51-9ca5-4a3cd52d022f",
   "metadata": {},
   "source": [
    "**Solution 5**"
   ]
  },
  {
   "cell_type": "code",
   "execution_count": 52,
   "id": "cadbbe29-365c-466e-842b-fe8e1c834772",
   "metadata": {},
   "outputs": [
    {
     "data": {
      "text/plain": [
       "ad_id       week\n",
       "AD098SWYF6  40       True\n",
       "AD08C8RR8J  47       True\n",
       "AD07QS8VCL  47       True\n",
       "AD00IGCC8G  47       True\n",
       "AD098C6SNV  47       True\n",
       "                    ...  \n",
       "AD07GRVV8L  47      False\n",
       "AD07GRVT8R  37      False\n",
       "AD07GRTNSP  49      False\n",
       "AD07GRTNPJ  37      False\n",
       "ADOO8X898E  50      False\n",
       "Length: 358763, dtype: bool"
      ]
     },
     "execution_count": 52,
     "metadata": {},
     "output_type": "execute_result"
    }
   ],
   "source": [
    "ad_recs_annotated[[\"ad_id\",\"week\"]].value_counts() > 1"
   ]
  },
  {
   "cell_type": "code",
   "execution_count": 53,
   "id": "fa67c7c1-60df-45ea-9cb2-03ec5c314cc2",
   "metadata": {},
   "outputs": [
    {
     "data": {
      "text/plain": [
       "('AD098SWYF6', 40)"
      ]
     },
     "execution_count": 53,
     "metadata": {},
     "output_type": "execute_result"
    }
   ],
   "source": [
    "ad_recs_annotated[[\"ad_id\",\"week\"]].value_counts().idxmax()"
   ]
  },
  {
   "cell_type": "markdown",
   "id": "a2877766-eed1-40fc-8340-2041ca12f05f",
   "metadata": {},
   "source": [
    "**Solution 6**"
   ]
  },
  {
   "cell_type": "code",
   "execution_count": null,
   "id": "4905c7f5-f653-4efe-9c65-eab58ee73ae2",
   "metadata": {},
   "outputs": [],
   "source": [
    "Are there ads that are being sent in more than one week?\n",
    "Which is the ad that was sent in most amount of weeks (e.g. ad X where sent in Y different weeks)\n",
    "What are the weeks that the ad from above was sent in?\n",
    "Is there an Ad that was succsefull in one week, but not succesfful in a different week? Show one."
   ]
  },
  {
   "cell_type": "code",
   "execution_count": 54,
   "id": "563d0176-39ec-421c-af25-1e7c66f7ef03",
   "metadata": {},
   "outputs": [],
   "source": [
    "sol6_df = ad_recs_annotated.groupby(['ad_id','week'])['week'].count()"
   ]
  },
  {
   "cell_type": "code",
   "execution_count": 55,
   "id": "d3fb7499-5bbf-4e88-bbd4-f6383c76337a",
   "metadata": {},
   "outputs": [],
   "source": [
    "sol6_df_sorted = sol6_df.groupby(level=[0, 0]).transform(\"count\").reset_index(name ='Total Amount').sort_values(by='Total Amount')"
   ]
  },
  {
   "cell_type": "code",
   "execution_count": 56,
   "id": "ad54b5b7-b59b-4d0e-a203-808a184dc2f6",
   "metadata": {},
   "outputs": [
    {
     "data": {
      "text/html": [
       "<div>\n",
       "<style scoped>\n",
       "    .dataframe tbody tr th:only-of-type {\n",
       "        vertical-align: middle;\n",
       "    }\n",
       "\n",
       "    .dataframe tbody tr th {\n",
       "        vertical-align: top;\n",
       "    }\n",
       "\n",
       "    .dataframe thead th {\n",
       "        text-align: right;\n",
       "    }\n",
       "</style>\n",
       "<table border=\"1\" class=\"dataframe\">\n",
       "  <thead>\n",
       "    <tr style=\"text-align: right;\">\n",
       "      <th></th>\n",
       "      <th>ad_id</th>\n",
       "      <th>week</th>\n",
       "      <th>Total Amount</th>\n",
       "    </tr>\n",
       "  </thead>\n",
       "  <tbody>\n",
       "    <tr>\n",
       "      <th>0</th>\n",
       "      <td>AD00000088</td>\n",
       "      <td>37</td>\n",
       "      <td>1</td>\n",
       "    </tr>\n",
       "    <tr>\n",
       "      <th>226830</th>\n",
       "      <td>AD089GRKZT</td>\n",
       "      <td>34</td>\n",
       "      <td>1</td>\n",
       "    </tr>\n",
       "    <tr>\n",
       "      <th>226829</th>\n",
       "      <td>AD089GRKDJ</td>\n",
       "      <td>49</td>\n",
       "      <td>1</td>\n",
       "    </tr>\n",
       "    <tr>\n",
       "      <th>226826</th>\n",
       "      <td>AD089GRF68</td>\n",
       "      <td>35</td>\n",
       "      <td>1</td>\n",
       "    </tr>\n",
       "    <tr>\n",
       "      <th>226825</th>\n",
       "      <td>AD089GR8YY</td>\n",
       "      <td>34</td>\n",
       "      <td>1</td>\n",
       "    </tr>\n",
       "    <tr>\n",
       "      <th>...</th>\n",
       "      <td>...</td>\n",
       "      <td>...</td>\n",
       "      <td>...</td>\n",
       "    </tr>\n",
       "    <tr>\n",
       "      <th>104890</th>\n",
       "      <td>AD079VP6DH</td>\n",
       "      <td>48</td>\n",
       "      <td>26</td>\n",
       "    </tr>\n",
       "    <tr>\n",
       "      <th>104891</th>\n",
       "      <td>AD079VP6DH</td>\n",
       "      <td>49</td>\n",
       "      <td>26</td>\n",
       "    </tr>\n",
       "    <tr>\n",
       "      <th>104892</th>\n",
       "      <td>AD079VP6DH</td>\n",
       "      <td>50</td>\n",
       "      <td>26</td>\n",
       "    </tr>\n",
       "    <tr>\n",
       "      <th>104882</th>\n",
       "      <td>AD079VP6DH</td>\n",
       "      <td>40</td>\n",
       "      <td>26</td>\n",
       "    </tr>\n",
       "    <tr>\n",
       "      <th>338118</th>\n",
       "      <td>AD098ZJV6Z</td>\n",
       "      <td>6</td>\n",
       "      <td>26</td>\n",
       "    </tr>\n",
       "  </tbody>\n",
       "</table>\n",
       "<p>358763 rows × 3 columns</p>\n",
       "</div>"
      ],
      "text/plain": [
       "             ad_id  week  Total Amount\n",
       "0       AD00000088    37             1\n",
       "226830  AD089GRKZT    34             1\n",
       "226829  AD089GRKDJ    49             1\n",
       "226826  AD089GRF68    35             1\n",
       "226825  AD089GR8YY    34             1\n",
       "...            ...   ...           ...\n",
       "104890  AD079VP6DH    48            26\n",
       "104891  AD079VP6DH    49            26\n",
       "104892  AD079VP6DH    50            26\n",
       "104882  AD079VP6DH    40            26\n",
       "338118  AD098ZJV6Z     6            26\n",
       "\n",
       "[358763 rows x 3 columns]"
      ]
     },
     "execution_count": 56,
     "metadata": {},
     "output_type": "execute_result"
    }
   ],
   "source": [
    "sol6_df_sorted"
   ]
  },
  {
   "cell_type": "markdown",
   "id": "4ceae61e-95d8-40c3-baf1-38361dcb1545",
   "metadata": {},
   "source": [
    "Conclusion: We can see above that there are ads that were sent in more than 1 week."
   ]
  },
  {
   "cell_type": "code",
   "execution_count": 57,
   "id": "c5ab799b-22db-4b4f-bcf9-4ddbcb34fa3f",
   "metadata": {},
   "outputs": [
    {
     "data": {
      "text/plain": [
       "('AD07PFFMP9', 26)"
      ]
     },
     "execution_count": 57,
     "metadata": {},
     "output_type": "execute_result"
    }
   ],
   "source": [
    "ad_most_weeks = sol6_df_sorted[['ad_id','Total Amount']].value_counts().idxmax()\n",
    "# In order to calculate the ad that was sent in the most number of weeks\n",
    "ad_most_weeks"
   ]
  },
  {
   "cell_type": "code",
   "execution_count": 58,
   "id": "0e765fce-7341-4a3d-b439-de160ccdb8bc",
   "metadata": {},
   "outputs": [
    {
     "name": "stdout",
     "output_type": "stream",
     "text": [
      "AD07PFFMP9\n"
     ]
    }
   ],
   "source": [
    "most_sold_add = ad_most_weeks[0]\n",
    "print(most_sold_add) # Ad that was sent in the most number of weeks"
   ]
  },
  {
   "cell_type": "code",
   "execution_count": 59,
   "id": "665e1396-1d56-4e50-8dcc-aa2e2818b82c",
   "metadata": {},
   "outputs": [
    {
     "data": {
      "text/plain": [
       "[5,\n",
       " 2,\n",
       " 3,\n",
       " 51,\n",
       " 50,\n",
       " 49,\n",
       " 48,\n",
       " 47,\n",
       " 46,\n",
       " 45,\n",
       " 44,\n",
       " 52,\n",
       " 43,\n",
       " 41,\n",
       " 40,\n",
       " 39,\n",
       " 38,\n",
       " 37,\n",
       " 36,\n",
       " 35,\n",
       " 34,\n",
       " 33,\n",
       " 4,\n",
       " 42,\n",
       " 1,\n",
       " 6]"
      ]
     },
     "execution_count": 59,
     "metadata": {},
     "output_type": "execute_result"
    }
   ],
   "source": [
    "most_sold_df = sol6_df_sorted.query('ad_id == @most_sold_add')\n",
    "list(most_sold_df['week']) # List of the weeks from the most sold ad"
   ]
  },
  {
   "cell_type": "code",
   "execution_count": null,
   "id": "4765ca03-0ceb-400d-bdb1-e71223840db1",
   "metadata": {},
   "outputs": [],
   "source": []
  },
  {
   "cell_type": "code",
   "execution_count": 100,
   "id": "38c89de3-8abf-4755-b519-828a1ff5b43a",
   "metadata": {},
   "outputs": [
    {
     "data": {
      "text/plain": [
       "ad_id       week\n",
       "AD00000088  37      1\n",
       "AD000000WF  3       1\n",
       "AD00000876  34      1\n",
       "AD00000888  2       1\n",
       "            43      1\n",
       "                   ..\n",
       "AD98988898  5       1\n",
       "            43      1\n",
       "AD99798888  42      1\n",
       "ADOO8X898E  41      1\n",
       "            50      1\n",
       "Name: week, Length: 358763, dtype: int64"
      ]
     },
     "execution_count": 100,
     "metadata": {},
     "output_type": "execute_result"
    }
   ],
   "source": [
    "ad_recs_annotated.groupby(['ad_id','week'])['week'].count()"
   ]
  },
  {
   "cell_type": "code",
   "execution_count": 107,
   "id": "1d90ff09-6fa4-48f5-ac69-f8b71a5c25a7",
   "metadata": {},
   "outputs": [
    {
     "data": {
      "text/html": [
       "<div>\n",
       "<style scoped>\n",
       "    .dataframe tbody tr th:only-of-type {\n",
       "        vertical-align: middle;\n",
       "    }\n",
       "\n",
       "    .dataframe tbody tr th {\n",
       "        vertical-align: top;\n",
       "    }\n",
       "\n",
       "    .dataframe thead th {\n",
       "        text-align: right;\n",
       "    }\n",
       "</style>\n",
       "<table border=\"1\" class=\"dataframe\">\n",
       "  <thead>\n",
       "    <tr style=\"text-align: right;\">\n",
       "      <th></th>\n",
       "      <th>ad_id</th>\n",
       "      <th>week</th>\n",
       "      <th>new_success</th>\n",
       "    </tr>\n",
       "  </thead>\n",
       "  <tbody>\n",
       "    <tr>\n",
       "      <th>0</th>\n",
       "      <td>AD0088VOS</td>\n",
       "      <td>33</td>\n",
       "      <td>1</td>\n",
       "    </tr>\n",
       "    <tr>\n",
       "      <th>1</th>\n",
       "      <td>AD07KYS8JM</td>\n",
       "      <td>33</td>\n",
       "      <td>1</td>\n",
       "    </tr>\n",
       "    <tr>\n",
       "      <th>2</th>\n",
       "      <td>AD08PDP6Y9</td>\n",
       "      <td>33</td>\n",
       "      <td>1</td>\n",
       "    </tr>\n",
       "    <tr>\n",
       "      <th>3</th>\n",
       "      <td>AD89608808</td>\n",
       "      <td>33</td>\n",
       "      <td>1</td>\n",
       "    </tr>\n",
       "    <tr>\n",
       "      <th>4</th>\n",
       "      <td>AD07CMVHP6</td>\n",
       "      <td>33</td>\n",
       "      <td>1</td>\n",
       "    </tr>\n",
       "    <tr>\n",
       "      <th>...</th>\n",
       "      <td>...</td>\n",
       "      <td>...</td>\n",
       "      <td>...</td>\n",
       "    </tr>\n",
       "    <tr>\n",
       "      <th>373783</th>\n",
       "      <td>AD08KQ8GDG</td>\n",
       "      <td>52</td>\n",
       "      <td>1</td>\n",
       "    </tr>\n",
       "    <tr>\n",
       "      <th>373784</th>\n",
       "      <td>AD07C8XSMN</td>\n",
       "      <td>52</td>\n",
       "      <td>1</td>\n",
       "    </tr>\n",
       "    <tr>\n",
       "      <th>373785</th>\n",
       "      <td>AD096LRR88</td>\n",
       "      <td>52</td>\n",
       "      <td>1</td>\n",
       "    </tr>\n",
       "    <tr>\n",
       "      <th>373786</th>\n",
       "      <td>AD08FWNFDO</td>\n",
       "      <td>52</td>\n",
       "      <td>1</td>\n",
       "    </tr>\n",
       "    <tr>\n",
       "      <th>373787</th>\n",
       "      <td>AD00NATC8M</td>\n",
       "      <td>52</td>\n",
       "      <td>1</td>\n",
       "    </tr>\n",
       "  </tbody>\n",
       "</table>\n",
       "<p>373788 rows × 3 columns</p>\n",
       "</div>"
      ],
      "text/plain": [
       "             ad_id  week  new_success\n",
       "0        AD0088VOS    33            1\n",
       "1       AD07KYS8JM    33            1\n",
       "2       AD08PDP6Y9    33            1\n",
       "3       AD89608808    33            1\n",
       "4       AD07CMVHP6    33            1\n",
       "...            ...   ...          ...\n",
       "373783  AD08KQ8GDG    52            1\n",
       "373784  AD07C8XSMN    52            1\n",
       "373785  AD096LRR88    52            1\n",
       "373786  AD08FWNFDO    52            1\n",
       "373787  AD00NATC8M    52            1\n",
       "\n",
       "[373788 rows x 3 columns]"
      ]
     },
     "execution_count": 107,
     "metadata": {},
     "output_type": "execute_result"
    }
   ],
   "source": [
    "df_new = ad_recs_annotated[['ad_id','week','new_success']]\n",
    "df_new"
   ]
  },
  {
   "cell_type": "code",
   "execution_count": 127,
   "id": "e80f950b-e691-4834-9f0b-44810305da23",
   "metadata": {},
   "outputs": [
    {
     "data": {
      "text/html": [
       "<div>\n",
       "<style scoped>\n",
       "    .dataframe tbody tr th:only-of-type {\n",
       "        vertical-align: middle;\n",
       "    }\n",
       "\n",
       "    .dataframe tbody tr th {\n",
       "        vertical-align: top;\n",
       "    }\n",
       "\n",
       "    .dataframe thead th {\n",
       "        text-align: right;\n",
       "    }\n",
       "</style>\n",
       "<table border=\"1\" class=\"dataframe\">\n",
       "  <thead>\n",
       "    <tr style=\"text-align: right;\">\n",
       "      <th></th>\n",
       "      <th></th>\n",
       "      <th>count</th>\n",
       "      <th>sum</th>\n",
       "    </tr>\n",
       "    <tr>\n",
       "      <th>ad_id</th>\n",
       "      <th>week</th>\n",
       "      <th></th>\n",
       "      <th></th>\n",
       "    </tr>\n",
       "  </thead>\n",
       "  <tbody>\n",
       "    <tr>\n",
       "      <th>AD00000088</th>\n",
       "      <th>37</th>\n",
       "      <td>1</td>\n",
       "      <td>1</td>\n",
       "    </tr>\n",
       "    <tr>\n",
       "      <th>AD000000WF</th>\n",
       "      <th>3</th>\n",
       "      <td>1</td>\n",
       "      <td>1</td>\n",
       "    </tr>\n",
       "    <tr>\n",
       "      <th>AD00000876</th>\n",
       "      <th>34</th>\n",
       "      <td>1</td>\n",
       "      <td>1</td>\n",
       "    </tr>\n",
       "    <tr>\n",
       "      <th rowspan=\"2\" valign=\"top\">AD00000888</th>\n",
       "      <th>2</th>\n",
       "      <td>1</td>\n",
       "      <td>1</td>\n",
       "    </tr>\n",
       "    <tr>\n",
       "      <th>43</th>\n",
       "      <td>1</td>\n",
       "      <td>1</td>\n",
       "    </tr>\n",
       "    <tr>\n",
       "      <th>...</th>\n",
       "      <th>...</th>\n",
       "      <td>...</td>\n",
       "      <td>...</td>\n",
       "    </tr>\n",
       "    <tr>\n",
       "      <th rowspan=\"2\" valign=\"top\">AD98988898</th>\n",
       "      <th>5</th>\n",
       "      <td>1</td>\n",
       "      <td>1</td>\n",
       "    </tr>\n",
       "    <tr>\n",
       "      <th>43</th>\n",
       "      <td>1</td>\n",
       "      <td>1</td>\n",
       "    </tr>\n",
       "    <tr>\n",
       "      <th>AD99798888</th>\n",
       "      <th>42</th>\n",
       "      <td>1</td>\n",
       "      <td>0</td>\n",
       "    </tr>\n",
       "    <tr>\n",
       "      <th rowspan=\"2\" valign=\"top\">ADOO8X898E</th>\n",
       "      <th>41</th>\n",
       "      <td>1</td>\n",
       "      <td>1</td>\n",
       "    </tr>\n",
       "    <tr>\n",
       "      <th>50</th>\n",
       "      <td>1</td>\n",
       "      <td>1</td>\n",
       "    </tr>\n",
       "  </tbody>\n",
       "</table>\n",
       "<p>358763 rows × 2 columns</p>\n",
       "</div>"
      ],
      "text/plain": [
       "                 count  sum\n",
       "ad_id      week            \n",
       "AD00000088 37        1    1\n",
       "AD000000WF 3         1    1\n",
       "AD00000876 34        1    1\n",
       "AD00000888 2         1    1\n",
       "           43        1    1\n",
       "...                ...  ...\n",
       "AD98988898 5         1    1\n",
       "           43        1    1\n",
       "AD99798888 42        1    0\n",
       "ADOO8X898E 41        1    1\n",
       "           50        1    1\n",
       "\n",
       "[358763 rows x 2 columns]"
      ]
     },
     "execution_count": 127,
     "metadata": {},
     "output_type": "execute_result"
    }
   ],
   "source": [
    "res = df_new.groupby(['ad_id','week'])['new_success'].agg(['count','sum'])\n",
    "res"
   ]
  },
  {
   "cell_type": "code",
   "execution_count": 132,
   "id": "1032d76e-59e7-4389-a9cf-8f94f4552806",
   "metadata": {},
   "outputs": [
    {
     "data": {
      "text/html": [
       "<div>\n",
       "<style scoped>\n",
       "    .dataframe tbody tr th:only-of-type {\n",
       "        vertical-align: middle;\n",
       "    }\n",
       "\n",
       "    .dataframe tbody tr th {\n",
       "        vertical-align: top;\n",
       "    }\n",
       "\n",
       "    .dataframe thead th {\n",
       "        text-align: right;\n",
       "    }\n",
       "</style>\n",
       "<table border=\"1\" class=\"dataframe\">\n",
       "  <thead>\n",
       "    <tr style=\"text-align: right;\">\n",
       "      <th></th>\n",
       "      <th>count</th>\n",
       "      <th>sum</th>\n",
       "    </tr>\n",
       "    <tr>\n",
       "      <th>ad_id</th>\n",
       "      <th></th>\n",
       "      <th></th>\n",
       "    </tr>\n",
       "  </thead>\n",
       "  <tbody>\n",
       "    <tr>\n",
       "      <th>AD00000088</th>\n",
       "      <td>1</td>\n",
       "      <td>1</td>\n",
       "    </tr>\n",
       "    <tr>\n",
       "      <th>AD000000WF</th>\n",
       "      <td>1</td>\n",
       "      <td>1</td>\n",
       "    </tr>\n",
       "    <tr>\n",
       "      <th>AD00000876</th>\n",
       "      <td>1</td>\n",
       "      <td>1</td>\n",
       "    </tr>\n",
       "    <tr>\n",
       "      <th>AD00000888</th>\n",
       "      <td>2</td>\n",
       "      <td>2</td>\n",
       "    </tr>\n",
       "    <tr>\n",
       "      <th>AD0000088C</th>\n",
       "      <td>1</td>\n",
       "      <td>1</td>\n",
       "    </tr>\n",
       "    <tr>\n",
       "      <th>...</th>\n",
       "      <td>...</td>\n",
       "      <td>...</td>\n",
       "    </tr>\n",
       "    <tr>\n",
       "      <th>AD98980890</th>\n",
       "      <td>1</td>\n",
       "      <td>1</td>\n",
       "    </tr>\n",
       "    <tr>\n",
       "      <th>AD98988688</th>\n",
       "      <td>1</td>\n",
       "      <td>1</td>\n",
       "    </tr>\n",
       "    <tr>\n",
       "      <th>AD98988898</th>\n",
       "      <td>2</td>\n",
       "      <td>2</td>\n",
       "    </tr>\n",
       "    <tr>\n",
       "      <th>AD99798888</th>\n",
       "      <td>1</td>\n",
       "      <td>0</td>\n",
       "    </tr>\n",
       "    <tr>\n",
       "      <th>ADOO8X898E</th>\n",
       "      <td>2</td>\n",
       "      <td>2</td>\n",
       "    </tr>\n",
       "  </tbody>\n",
       "</table>\n",
       "<p>300727 rows × 2 columns</p>\n",
       "</div>"
      ],
      "text/plain": [
       "            count  sum\n",
       "ad_id                 \n",
       "AD00000088      1    1\n",
       "AD000000WF      1    1\n",
       "AD00000876      1    1\n",
       "AD00000888      2    2\n",
       "AD0000088C      1    1\n",
       "...           ...  ...\n",
       "AD98980890      1    1\n",
       "AD98988688      1    1\n",
       "AD98988898      2    2\n",
       "AD99798888      1    0\n",
       "ADOO8X898E      2    2\n",
       "\n",
       "[300727 rows x 2 columns]"
      ]
     },
     "execution_count": 132,
     "metadata": {},
     "output_type": "execute_result"
    }
   ],
   "source": [
    "res2= res.groupby('ad_id')[['count','sum']].sum()\n",
    "res2"
   ]
  },
  {
   "cell_type": "code",
   "execution_count": 137,
   "id": "c1abfdbc-5d80-4a86-aaa5-6ec96fdb8d96",
   "metadata": {},
   "outputs": [],
   "source": [
    "res2['check'] = res2['count'] - res2['sum']"
   ]
  },
  {
   "cell_type": "code",
   "execution_count": 148,
   "id": "926fb054-9582-4269-9efa-b4cebd9bd0e8",
   "metadata": {},
   "outputs": [
    {
     "data": {
      "text/html": [
       "<div>\n",
       "<style scoped>\n",
       "    .dataframe tbody tr th:only-of-type {\n",
       "        vertical-align: middle;\n",
       "    }\n",
       "\n",
       "    .dataframe tbody tr th {\n",
       "        vertical-align: top;\n",
       "    }\n",
       "\n",
       "    .dataframe thead th {\n",
       "        text-align: right;\n",
       "    }\n",
       "</style>\n",
       "<table border=\"1\" class=\"dataframe\">\n",
       "  <thead>\n",
       "    <tr style=\"text-align: right;\">\n",
       "      <th></th>\n",
       "      <th>count</th>\n",
       "      <th>sum</th>\n",
       "      <th>check</th>\n",
       "    </tr>\n",
       "    <tr>\n",
       "      <th>ad_id</th>\n",
       "      <th></th>\n",
       "      <th></th>\n",
       "      <th></th>\n",
       "    </tr>\n",
       "  </thead>\n",
       "  <tbody>\n",
       "    <tr>\n",
       "      <th>AD00006IDK</th>\n",
       "      <td>2</td>\n",
       "      <td>1</td>\n",
       "      <td>1</td>\n",
       "    </tr>\n",
       "    <tr>\n",
       "      <th>AD00006IEI</th>\n",
       "      <td>4</td>\n",
       "      <td>3</td>\n",
       "      <td>1</td>\n",
       "    </tr>\n",
       "    <tr>\n",
       "      <th>AD00007F8Q</th>\n",
       "      <td>4</td>\n",
       "      <td>3</td>\n",
       "      <td>1</td>\n",
       "    </tr>\n",
       "    <tr>\n",
       "      <th>AD00007K6N</th>\n",
       "      <td>2</td>\n",
       "      <td>1</td>\n",
       "      <td>1</td>\n",
       "    </tr>\n",
       "    <tr>\n",
       "      <th>AD00008808</th>\n",
       "      <td>5</td>\n",
       "      <td>4</td>\n",
       "      <td>1</td>\n",
       "    </tr>\n",
       "    <tr>\n",
       "      <th>...</th>\n",
       "      <td>...</td>\n",
       "      <td>...</td>\n",
       "      <td>...</td>\n",
       "    </tr>\n",
       "    <tr>\n",
       "      <th>AD98888878</th>\n",
       "      <td>2</td>\n",
       "      <td>1</td>\n",
       "      <td>1</td>\n",
       "    </tr>\n",
       "    <tr>\n",
       "      <th>AD98888888</th>\n",
       "      <td>8</td>\n",
       "      <td>7</td>\n",
       "      <td>1</td>\n",
       "    </tr>\n",
       "    <tr>\n",
       "      <th>AD98889888</th>\n",
       "      <td>3</td>\n",
       "      <td>1</td>\n",
       "      <td>2</td>\n",
       "    </tr>\n",
       "    <tr>\n",
       "      <th>AD98898880</th>\n",
       "      <td>7</td>\n",
       "      <td>6</td>\n",
       "      <td>1</td>\n",
       "    </tr>\n",
       "    <tr>\n",
       "      <th>AD98908988</th>\n",
       "      <td>3</td>\n",
       "      <td>2</td>\n",
       "      <td>1</td>\n",
       "    </tr>\n",
       "  </tbody>\n",
       "</table>\n",
       "<p>5418 rows × 3 columns</p>\n",
       "</div>"
      ],
      "text/plain": [
       "            count  sum  check\n",
       "ad_id                        \n",
       "AD00006IDK      2    1      1\n",
       "AD00006IEI      4    3      1\n",
       "AD00007F8Q      4    3      1\n",
       "AD00007K6N      2    1      1\n",
       "AD00008808      5    4      1\n",
       "...           ...  ...    ...\n",
       "AD98888878      2    1      1\n",
       "AD98888888      8    7      1\n",
       "AD98889888      3    1      2\n",
       "AD98898880      7    6      1\n",
       "AD98908988      3    2      1\n",
       "\n",
       "[5418 rows x 3 columns]"
      ]
     },
     "execution_count": 148,
     "metadata": {},
     "output_type": "execute_result"
    }
   ],
   "source": [
    "res2.loc[((res2['check'] != 0) & (res2['count'] > 1) & (res2['sum'] > 0))]"
   ]
  },
  {
   "cell_type": "code",
   "execution_count": 151,
   "id": "12e5a8d7-8d02-46ff-81bf-fe0fb24afec0",
   "metadata": {},
   "outputs": [
    {
     "data": {
      "text/html": [
       "<div>\n",
       "<style scoped>\n",
       "    .dataframe tbody tr th:only-of-type {\n",
       "        vertical-align: middle;\n",
       "    }\n",
       "\n",
       "    .dataframe tbody tr th {\n",
       "        vertical-align: top;\n",
       "    }\n",
       "\n",
       "    .dataframe thead th {\n",
       "        text-align: right;\n",
       "    }\n",
       "</style>\n",
       "<table border=\"1\" class=\"dataframe\">\n",
       "  <thead>\n",
       "    <tr style=\"text-align: right;\">\n",
       "      <th></th>\n",
       "      <th>week_id</th>\n",
       "      <th>ad_id</th>\n",
       "      <th>requester</th>\n",
       "      <th>region</th>\n",
       "      <th>is_success</th>\n",
       "      <th>is_sever</th>\n",
       "      <th>recommendation_type</th>\n",
       "      <th>rec_provider</th>\n",
       "      <th>year</th>\n",
       "      <th>week</th>\n",
       "      <th>quarter</th>\n",
       "      <th>new_success</th>\n",
       "      <th>ad_count</th>\n",
       "      <th>new_is_sever</th>\n",
       "    </tr>\n",
       "  </thead>\n",
       "  <tbody>\n",
       "    <tr>\n",
       "      <th>21446</th>\n",
       "      <td>2021-week_34</td>\n",
       "      <td>AD98888878</td>\n",
       "      <td>Puentes Company</td>\n",
       "      <td>IN</td>\n",
       "      <td>Yes</td>\n",
       "      <td>NaN</td>\n",
       "      <td>Qality</td>\n",
       "      <td>UserPopQ</td>\n",
       "      <td>2021</td>\n",
       "      <td>34</td>\n",
       "      <td>3</td>\n",
       "      <td>1</td>\n",
       "      <td>1</td>\n",
       "      <td>False</td>\n",
       "    </tr>\n",
       "    <tr>\n",
       "      <th>165804</th>\n",
       "      <td>2021-week_44</td>\n",
       "      <td>AD98888878</td>\n",
       "      <td>Search Million Culture</td>\n",
       "      <td>IN</td>\n",
       "      <td>No</td>\n",
       "      <td>False</td>\n",
       "      <td>Qality</td>\n",
       "      <td>UserPopQ</td>\n",
       "      <td>2021</td>\n",
       "      <td>44</td>\n",
       "      <td>4</td>\n",
       "      <td>0</td>\n",
       "      <td>1</td>\n",
       "      <td>False</td>\n",
       "    </tr>\n",
       "  </tbody>\n",
       "</table>\n",
       "</div>"
      ],
      "text/plain": [
       "             week_id       ad_id               requester region is_success  \\\n",
       "21446   2021-week_34  AD98888878         Puentes Company     IN        Yes   \n",
       "165804  2021-week_44  AD98888878  Search Million Culture     IN         No   \n",
       "\n",
       "       is_sever recommendation_type rec_provider  year  week  quarter  \\\n",
       "21446       NaN              Qality     UserPopQ  2021    34        3   \n",
       "165804    False              Qality     UserPopQ  2021    44        4   \n",
       "\n",
       "        new_success  ad_count  new_is_sever  \n",
       "21446             1         1         False  \n",
       "165804            0         1         False  "
      ]
     },
     "execution_count": 151,
     "metadata": {},
     "output_type": "execute_result"
    }
   ],
   "source": [
    "ad_recs_annotated.loc[ad_recs_annotated.ad_id == 'AD98888878'] # Example taken from the query above in order to prove that it works"
   ]
  },
  {
   "cell_type": "markdown",
   "id": "3457ea69-efac-4724-8c6a-b27ad3974c3f",
   "metadata": {},
   "source": [
    "**Solution 7**"
   ]
  },
  {
   "cell_type": "code",
   "execution_count": 66,
   "id": "6fdf71f2-d335-47c6-be9e-d7b547378083",
   "metadata": {},
   "outputs": [
    {
     "data": {
      "text/plain": [
       "304189"
      ]
     },
     "execution_count": 66,
     "metadata": {},
     "output_type": "execute_result"
    }
   ],
   "source": [
    "ad_recs_annotated.loc[((ad_recs_annotated['is_sever'].isnull()) & (ad_recs_annotated['new_success'] == 1))].shape[0]"
   ]
  },
  {
   "cell_type": "code",
   "execution_count": 67,
   "id": "3e96a5fc-e245-488f-b206-d13950c5cb2d",
   "metadata": {},
   "outputs": [
    {
     "data": {
      "text/plain": [
       "6"
      ]
     },
     "execution_count": 67,
     "metadata": {},
     "output_type": "execute_result"
    }
   ],
   "source": [
    "ad_recs_annotated.loc[((ad_recs_annotated['is_sever'].isnull()) & (ad_recs_annotated['new_success'] == 0))].shape[0]"
   ]
  },
  {
   "cell_type": "markdown",
   "id": "74c28906-6489-471a-9b8b-423031ef050b",
   "metadata": {},
   "source": [
    "Conclusion:  'None\" is_sever values are in fact 'False' entries, ie the recommendation is not severly defected."
   ]
  },
  {
   "cell_type": "markdown",
   "id": "900036d9-80df-48ac-99c3-79ebed4dcd21",
   "metadata": {},
   "source": [
    "**Solution 8**"
   ]
  },
  {
   "cell_type": "code",
   "execution_count": 68,
   "id": "fdc55f61-7af2-4e2f-86c2-28968f58fa17",
   "metadata": {},
   "outputs": [],
   "source": [
    "sol8_df = ad_recs_annotated.groupby(['region','week','new_success'])['new_success'].count() #.reset_index(name='counts')"
   ]
  },
  {
   "cell_type": "code",
   "execution_count": 69,
   "id": "51df3edc-3a34-4533-b09d-f6cd8231483c",
   "metadata": {},
   "outputs": [
    {
     "data": {
      "text/plain": [
       "region  week  new_success\n",
       "DE      1     0              0.179017\n",
       "              1              0.820983\n",
       "        2     0              0.158730\n",
       "              1              0.841270\n",
       "        3     0              0.167788\n",
       "                               ...   \n",
       "US      50    1              0.847657\n",
       "        51    0              0.176927\n",
       "              1              0.823073\n",
       "        52    0              0.164082\n",
       "              1              0.835918\n",
       "Name: new_success, Length: 258, dtype: float64"
      ]
     },
     "execution_count": 69,
     "metadata": {},
     "output_type": "execute_result"
    }
   ],
   "source": [
    "sol8_df / sol8_df.groupby(level=[0, 1]).transform(\"sum\")"
   ]
  },
  {
   "cell_type": "markdown",
   "id": "c73361f1-bcef-425b-acb2-07f964dbec96",
   "metadata": {},
   "source": [
    "**Solution 9**"
   ]
  },
  {
   "cell_type": "code",
   "execution_count": 71,
   "id": "5c81d2e7-9b1b-4803-a488-aa6ac0fe2081",
   "metadata": {},
   "outputs": [
    {
     "data": {
      "text/plain": [
       "36"
      ]
     },
     "execution_count": 71,
     "metadata": {},
     "output_type": "execute_result"
    }
   ],
   "source": [
    "ad_recs_annotated.requester.nunique()"
   ]
  },
  {
   "cell_type": "markdown",
   "id": "325f3ffd-104d-4195-a863-bcf936a839ae",
   "metadata": {},
   "source": [
    "**Solution 10**"
   ]
  },
  {
   "cell_type": "code",
   "execution_count": 72,
   "id": "4486889f-e17c-4746-ad31-e559c47c50b8",
   "metadata": {},
   "outputs": [
    {
     "data": {
      "text/plain": [
       "region  requester             \n",
       "US      Extreme DA                57215\n",
       "IN      Puentes Company           29427\n",
       "GB      Search Million Culture    28002\n",
       "JP      RelayFoods                24574\n",
       "DE      Search Million Culture    23657\n",
       "Name: region, dtype: int64"
      ]
     },
     "execution_count": 72,
     "metadata": {},
     "output_type": "execute_result"
    }
   ],
   "source": [
    "ad_recs_annotated.groupby(['region','requester'])['region'].count().sort_values(ascending=False).head(5)"
   ]
  },
  {
   "cell_type": "markdown",
   "id": "2665fe4b-f83c-4b33-91ae-4840da6d727d",
   "metadata": {},
   "source": [
    "**Solution 11**"
   ]
  },
  {
   "cell_type": "code",
   "execution_count": 73,
   "id": "a43cde1d-0a96-48d9-a410-2debd6c1c92d",
   "metadata": {},
   "outputs": [
    {
     "name": "stdout",
     "output_type": "stream",
     "text": [
      "dict_keys(['BooksQ', 'BooksY', 'DNNQ', 'DNNY', 'ManualQ', 'ManualY', 'RNNQ', 'RNNY', 'RuleBased', 'RuleBasedY', 'UserPopQ', 'UserPopSelectionQ', 'UserPopSelectionY', 'UserPopY', 'XGBQ', 'XGBY'])\n"
     ]
    }
   ],
   "source": [
    "print(ad_recs_annotated.groupby('rec_provider').groups.keys())"
   ]
  },
  {
   "cell_type": "markdown",
   "id": "21f216e3-4401-438e-9c71-e0f33d055f86",
   "metadata": {},
   "source": [
    "**Solution 12**"
   ]
  },
  {
   "cell_type": "code",
   "execution_count": 74,
   "id": "8fcf3701-a2ef-48f1-8920-5af9f58a0d61",
   "metadata": {},
   "outputs": [
    {
     "data": {
      "text/html": [
       "<div>\n",
       "<style scoped>\n",
       "    .dataframe tbody tr th:only-of-type {\n",
       "        vertical-align: middle;\n",
       "    }\n",
       "\n",
       "    .dataframe tbody tr th {\n",
       "        vertical-align: top;\n",
       "    }\n",
       "\n",
       "    .dataframe thead th {\n",
       "        text-align: right;\n",
       "    }\n",
       "</style>\n",
       "<table border=\"1\" class=\"dataframe\">\n",
       "  <thead>\n",
       "    <tr style=\"text-align: right;\">\n",
       "      <th></th>\n",
       "      <th>region</th>\n",
       "      <th>rec_provider</th>\n",
       "      <th>Total</th>\n",
       "    </tr>\n",
       "  </thead>\n",
       "  <tbody>\n",
       "    <tr>\n",
       "      <th>0</th>\n",
       "      <td>DE</td>\n",
       "      <td>BooksQ</td>\n",
       "      <td>1353</td>\n",
       "    </tr>\n",
       "    <tr>\n",
       "      <th>1</th>\n",
       "      <td>DE</td>\n",
       "      <td>BooksY</td>\n",
       "      <td>1257</td>\n",
       "    </tr>\n",
       "    <tr>\n",
       "      <th>2</th>\n",
       "      <td>DE</td>\n",
       "      <td>DNNQ</td>\n",
       "      <td>32433</td>\n",
       "    </tr>\n",
       "    <tr>\n",
       "      <th>3</th>\n",
       "      <td>DE</td>\n",
       "      <td>DNNY</td>\n",
       "      <td>5417</td>\n",
       "    </tr>\n",
       "    <tr>\n",
       "      <th>4</th>\n",
       "      <td>DE</td>\n",
       "      <td>ManualQ</td>\n",
       "      <td>968</td>\n",
       "    </tr>\n",
       "    <tr>\n",
       "      <th>5</th>\n",
       "      <td>DE</td>\n",
       "      <td>ManualY</td>\n",
       "      <td>605</td>\n",
       "    </tr>\n",
       "    <tr>\n",
       "      <th>6</th>\n",
       "      <td>DE</td>\n",
       "      <td>RuleBasedY</td>\n",
       "      <td>1614</td>\n",
       "    </tr>\n",
       "    <tr>\n",
       "      <th>7</th>\n",
       "      <td>DE</td>\n",
       "      <td>UserPopQ</td>\n",
       "      <td>15179</td>\n",
       "    </tr>\n",
       "    <tr>\n",
       "      <th>8</th>\n",
       "      <td>DE</td>\n",
       "      <td>UserPopY</td>\n",
       "      <td>3351</td>\n",
       "    </tr>\n",
       "    <tr>\n",
       "      <th>9</th>\n",
       "      <td>GB</td>\n",
       "      <td>DNNQ</td>\n",
       "      <td>39675</td>\n",
       "    </tr>\n",
       "    <tr>\n",
       "      <th>10</th>\n",
       "      <td>GB</td>\n",
       "      <td>DNNY</td>\n",
       "      <td>7273</td>\n",
       "    </tr>\n",
       "    <tr>\n",
       "      <th>11</th>\n",
       "      <td>GB</td>\n",
       "      <td>ManualQ</td>\n",
       "      <td>2154</td>\n",
       "    </tr>\n",
       "    <tr>\n",
       "      <th>12</th>\n",
       "      <td>GB</td>\n",
       "      <td>ManualY</td>\n",
       "      <td>553</td>\n",
       "    </tr>\n",
       "    <tr>\n",
       "      <th>13</th>\n",
       "      <td>GB</td>\n",
       "      <td>RNNQ</td>\n",
       "      <td>11369</td>\n",
       "    </tr>\n",
       "    <tr>\n",
       "      <th>14</th>\n",
       "      <td>GB</td>\n",
       "      <td>RNNY</td>\n",
       "      <td>1548</td>\n",
       "    </tr>\n",
       "    <tr>\n",
       "      <th>15</th>\n",
       "      <td>GB</td>\n",
       "      <td>RuleBased</td>\n",
       "      <td>40</td>\n",
       "    </tr>\n",
       "    <tr>\n",
       "      <th>16</th>\n",
       "      <td>GB</td>\n",
       "      <td>RuleBasedY</td>\n",
       "      <td>1849</td>\n",
       "    </tr>\n",
       "    <tr>\n",
       "      <th>17</th>\n",
       "      <td>GB</td>\n",
       "      <td>UserPopQ</td>\n",
       "      <td>6781</td>\n",
       "    </tr>\n",
       "    <tr>\n",
       "      <th>18</th>\n",
       "      <td>GB</td>\n",
       "      <td>UserPopY</td>\n",
       "      <td>1642</td>\n",
       "    </tr>\n",
       "    <tr>\n",
       "      <th>19</th>\n",
       "      <td>GB</td>\n",
       "      <td>XGBQ</td>\n",
       "      <td>9136</td>\n",
       "    </tr>\n",
       "    <tr>\n",
       "      <th>20</th>\n",
       "      <td>GB</td>\n",
       "      <td>XGBY</td>\n",
       "      <td>964</td>\n",
       "    </tr>\n",
       "    <tr>\n",
       "      <th>21</th>\n",
       "      <td>IN</td>\n",
       "      <td>ManualQ</td>\n",
       "      <td>5293</td>\n",
       "    </tr>\n",
       "    <tr>\n",
       "      <th>22</th>\n",
       "      <td>IN</td>\n",
       "      <td>ManualY</td>\n",
       "      <td>225</td>\n",
       "    </tr>\n",
       "    <tr>\n",
       "      <th>23</th>\n",
       "      <td>IN</td>\n",
       "      <td>RuleBased</td>\n",
       "      <td>7</td>\n",
       "    </tr>\n",
       "    <tr>\n",
       "      <th>24</th>\n",
       "      <td>IN</td>\n",
       "      <td>RuleBasedY</td>\n",
       "      <td>14107</td>\n",
       "    </tr>\n",
       "    <tr>\n",
       "      <th>25</th>\n",
       "      <td>IN</td>\n",
       "      <td>UserPopQ</td>\n",
       "      <td>38225</td>\n",
       "    </tr>\n",
       "    <tr>\n",
       "      <th>26</th>\n",
       "      <td>IN</td>\n",
       "      <td>UserPopY</td>\n",
       "      <td>25297</td>\n",
       "    </tr>\n",
       "    <tr>\n",
       "      <th>27</th>\n",
       "      <td>JP</td>\n",
       "      <td>DNNQ</td>\n",
       "      <td>24574</td>\n",
       "    </tr>\n",
       "    <tr>\n",
       "      <th>28</th>\n",
       "      <td>JP</td>\n",
       "      <td>DNNY</td>\n",
       "      <td>3859</td>\n",
       "    </tr>\n",
       "    <tr>\n",
       "      <th>29</th>\n",
       "      <td>JP</td>\n",
       "      <td>ManualQ</td>\n",
       "      <td>697</td>\n",
       "    </tr>\n",
       "    <tr>\n",
       "      <th>30</th>\n",
       "      <td>JP</td>\n",
       "      <td>ManualY</td>\n",
       "      <td>125</td>\n",
       "    </tr>\n",
       "    <tr>\n",
       "      <th>31</th>\n",
       "      <td>JP</td>\n",
       "      <td>RuleBasedY</td>\n",
       "      <td>627</td>\n",
       "    </tr>\n",
       "    <tr>\n",
       "      <th>32</th>\n",
       "      <td>JP</td>\n",
       "      <td>UserPopQ</td>\n",
       "      <td>7930</td>\n",
       "    </tr>\n",
       "    <tr>\n",
       "      <th>33</th>\n",
       "      <td>JP</td>\n",
       "      <td>UserPopSelectionQ</td>\n",
       "      <td>2417</td>\n",
       "    </tr>\n",
       "    <tr>\n",
       "      <th>34</th>\n",
       "      <td>JP</td>\n",
       "      <td>UserPopSelectionY</td>\n",
       "      <td>21</td>\n",
       "    </tr>\n",
       "    <tr>\n",
       "      <th>35</th>\n",
       "      <td>JP</td>\n",
       "      <td>UserPopY</td>\n",
       "      <td>1377</td>\n",
       "    </tr>\n",
       "    <tr>\n",
       "      <th>36</th>\n",
       "      <td>US</td>\n",
       "      <td>BooksQ</td>\n",
       "      <td>367</td>\n",
       "    </tr>\n",
       "    <tr>\n",
       "      <th>37</th>\n",
       "      <td>US</td>\n",
       "      <td>BooksY</td>\n",
       "      <td>2893</td>\n",
       "    </tr>\n",
       "    <tr>\n",
       "      <th>38</th>\n",
       "      <td>US</td>\n",
       "      <td>DNNQ</td>\n",
       "      <td>20742</td>\n",
       "    </tr>\n",
       "    <tr>\n",
       "      <th>39</th>\n",
       "      <td>US</td>\n",
       "      <td>DNNY</td>\n",
       "      <td>28567</td>\n",
       "    </tr>\n",
       "    <tr>\n",
       "      <th>40</th>\n",
       "      <td>US</td>\n",
       "      <td>ManualQ</td>\n",
       "      <td>4732</td>\n",
       "    </tr>\n",
       "    <tr>\n",
       "      <th>41</th>\n",
       "      <td>US</td>\n",
       "      <td>ManualY</td>\n",
       "      <td>474</td>\n",
       "    </tr>\n",
       "    <tr>\n",
       "      <th>42</th>\n",
       "      <td>US</td>\n",
       "      <td>RNNQ</td>\n",
       "      <td>9614</td>\n",
       "    </tr>\n",
       "    <tr>\n",
       "      <th>43</th>\n",
       "      <td>US</td>\n",
       "      <td>RNNY</td>\n",
       "      <td>11184</td>\n",
       "    </tr>\n",
       "    <tr>\n",
       "      <th>44</th>\n",
       "      <td>US</td>\n",
       "      <td>RuleBased</td>\n",
       "      <td>135</td>\n",
       "    </tr>\n",
       "    <tr>\n",
       "      <th>45</th>\n",
       "      <td>US</td>\n",
       "      <td>RuleBasedY</td>\n",
       "      <td>9957</td>\n",
       "    </tr>\n",
       "    <tr>\n",
       "      <th>46</th>\n",
       "      <td>US</td>\n",
       "      <td>UserPopQ</td>\n",
       "      <td>1822</td>\n",
       "    </tr>\n",
       "    <tr>\n",
       "      <th>47</th>\n",
       "      <td>US</td>\n",
       "      <td>UserPopY</td>\n",
       "      <td>6933</td>\n",
       "    </tr>\n",
       "    <tr>\n",
       "      <th>48</th>\n",
       "      <td>US</td>\n",
       "      <td>XGBQ</td>\n",
       "      <td>3114</td>\n",
       "    </tr>\n",
       "    <tr>\n",
       "      <th>49</th>\n",
       "      <td>US</td>\n",
       "      <td>XGBY</td>\n",
       "      <td>3312</td>\n",
       "    </tr>\n",
       "  </tbody>\n",
       "</table>\n",
       "</div>"
      ],
      "text/plain": [
       "   region       rec_provider  Total\n",
       "0      DE             BooksQ   1353\n",
       "1      DE             BooksY   1257\n",
       "2      DE               DNNQ  32433\n",
       "3      DE               DNNY   5417\n",
       "4      DE            ManualQ    968\n",
       "5      DE            ManualY    605\n",
       "6      DE         RuleBasedY   1614\n",
       "7      DE           UserPopQ  15179\n",
       "8      DE           UserPopY   3351\n",
       "9      GB               DNNQ  39675\n",
       "10     GB               DNNY   7273\n",
       "11     GB            ManualQ   2154\n",
       "12     GB            ManualY    553\n",
       "13     GB               RNNQ  11369\n",
       "14     GB               RNNY   1548\n",
       "15     GB          RuleBased     40\n",
       "16     GB         RuleBasedY   1849\n",
       "17     GB           UserPopQ   6781\n",
       "18     GB           UserPopY   1642\n",
       "19     GB               XGBQ   9136\n",
       "20     GB               XGBY    964\n",
       "21     IN            ManualQ   5293\n",
       "22     IN            ManualY    225\n",
       "23     IN          RuleBased      7\n",
       "24     IN         RuleBasedY  14107\n",
       "25     IN           UserPopQ  38225\n",
       "26     IN           UserPopY  25297\n",
       "27     JP               DNNQ  24574\n",
       "28     JP               DNNY   3859\n",
       "29     JP            ManualQ    697\n",
       "30     JP            ManualY    125\n",
       "31     JP         RuleBasedY    627\n",
       "32     JP           UserPopQ   7930\n",
       "33     JP  UserPopSelectionQ   2417\n",
       "34     JP  UserPopSelectionY     21\n",
       "35     JP           UserPopY   1377\n",
       "36     US             BooksQ    367\n",
       "37     US             BooksY   2893\n",
       "38     US               DNNQ  20742\n",
       "39     US               DNNY  28567\n",
       "40     US            ManualQ   4732\n",
       "41     US            ManualY    474\n",
       "42     US               RNNQ   9614\n",
       "43     US               RNNY  11184\n",
       "44     US          RuleBased    135\n",
       "45     US         RuleBasedY   9957\n",
       "46     US           UserPopQ   1822\n",
       "47     US           UserPopY   6933\n",
       "48     US               XGBQ   3114\n",
       "49     US               XGBY   3312"
      ]
     },
     "execution_count": 74,
     "metadata": {},
     "output_type": "execute_result"
    }
   ],
   "source": [
    "ad_recs_annotated.groupby(['region','rec_provider'])['region'].count().reset_index(name='Total')"
   ]
  },
  {
   "cell_type": "markdown",
   "id": "64935458-afab-4b06-ba7a-40c78d33515d",
   "metadata": {},
   "source": [
    "**Solution 13**"
   ]
  },
  {
   "cell_type": "code",
   "execution_count": 75,
   "id": "032c2a04-7abf-43b8-a99b-ad2276d03beb",
   "metadata": {},
   "outputs": [
    {
     "data": {
      "text/html": [
       "<div>\n",
       "<style scoped>\n",
       "    .dataframe tbody tr th:only-of-type {\n",
       "        vertical-align: middle;\n",
       "    }\n",
       "\n",
       "    .dataframe tbody tr th {\n",
       "        vertical-align: top;\n",
       "    }\n",
       "\n",
       "    .dataframe thead th {\n",
       "        text-align: right;\n",
       "    }\n",
       "</style>\n",
       "<table border=\"1\" class=\"dataframe\">\n",
       "  <thead>\n",
       "    <tr style=\"text-align: right;\">\n",
       "      <th></th>\n",
       "      <th>recommendation_type</th>\n",
       "      <th>rec_provider</th>\n",
       "      <th>Total</th>\n",
       "    </tr>\n",
       "  </thead>\n",
       "  <tbody>\n",
       "    <tr>\n",
       "      <th>0</th>\n",
       "      <td>Qality</td>\n",
       "      <td>BooksQ</td>\n",
       "      <td>1720</td>\n",
       "    </tr>\n",
       "    <tr>\n",
       "      <th>1</th>\n",
       "      <td>Qality</td>\n",
       "      <td>DNNQ</td>\n",
       "      <td>117424</td>\n",
       "    </tr>\n",
       "    <tr>\n",
       "      <th>2</th>\n",
       "      <td>Qality</td>\n",
       "      <td>ManualQ</td>\n",
       "      <td>10220</td>\n",
       "    </tr>\n",
       "    <tr>\n",
       "      <th>3</th>\n",
       "      <td>Qality</td>\n",
       "      <td>ManualY</td>\n",
       "      <td>1439</td>\n",
       "    </tr>\n",
       "    <tr>\n",
       "      <th>4</th>\n",
       "      <td>Qality</td>\n",
       "      <td>RNNQ</td>\n",
       "      <td>20983</td>\n",
       "    </tr>\n",
       "    <tr>\n",
       "      <th>5</th>\n",
       "      <td>Qality</td>\n",
       "      <td>RuleBased</td>\n",
       "      <td>182</td>\n",
       "    </tr>\n",
       "    <tr>\n",
       "      <th>6</th>\n",
       "      <td>Qality</td>\n",
       "      <td>UserPopQ</td>\n",
       "      <td>69937</td>\n",
       "    </tr>\n",
       "    <tr>\n",
       "      <th>7</th>\n",
       "      <td>Qality</td>\n",
       "      <td>UserPopSelectionQ</td>\n",
       "      <td>2417</td>\n",
       "    </tr>\n",
       "    <tr>\n",
       "      <th>8</th>\n",
       "      <td>Qality</td>\n",
       "      <td>XGBQ</td>\n",
       "      <td>12250</td>\n",
       "    </tr>\n",
       "    <tr>\n",
       "      <th>9</th>\n",
       "      <td>Yield</td>\n",
       "      <td>BooksY</td>\n",
       "      <td>4150</td>\n",
       "    </tr>\n",
       "    <tr>\n",
       "      <th>10</th>\n",
       "      <td>Yield</td>\n",
       "      <td>DNNY</td>\n",
       "      <td>45116</td>\n",
       "    </tr>\n",
       "    <tr>\n",
       "      <th>11</th>\n",
       "      <td>Yield</td>\n",
       "      <td>ManualQ</td>\n",
       "      <td>3624</td>\n",
       "    </tr>\n",
       "    <tr>\n",
       "      <th>12</th>\n",
       "      <td>Yield</td>\n",
       "      <td>ManualY</td>\n",
       "      <td>543</td>\n",
       "    </tr>\n",
       "    <tr>\n",
       "      <th>13</th>\n",
       "      <td>Yield</td>\n",
       "      <td>RNNY</td>\n",
       "      <td>12732</td>\n",
       "    </tr>\n",
       "    <tr>\n",
       "      <th>14</th>\n",
       "      <td>Yield</td>\n",
       "      <td>RuleBasedY</td>\n",
       "      <td>28154</td>\n",
       "    </tr>\n",
       "    <tr>\n",
       "      <th>15</th>\n",
       "      <td>Yield</td>\n",
       "      <td>UserPopSelectionY</td>\n",
       "      <td>21</td>\n",
       "    </tr>\n",
       "    <tr>\n",
       "      <th>16</th>\n",
       "      <td>Yield</td>\n",
       "      <td>UserPopY</td>\n",
       "      <td>38600</td>\n",
       "    </tr>\n",
       "    <tr>\n",
       "      <th>17</th>\n",
       "      <td>Yield</td>\n",
       "      <td>XGBY</td>\n",
       "      <td>4276</td>\n",
       "    </tr>\n",
       "  </tbody>\n",
       "</table>\n",
       "</div>"
      ],
      "text/plain": [
       "   recommendation_type       rec_provider   Total\n",
       "0               Qality             BooksQ    1720\n",
       "1               Qality               DNNQ  117424\n",
       "2               Qality            ManualQ   10220\n",
       "3               Qality            ManualY    1439\n",
       "4               Qality               RNNQ   20983\n",
       "5               Qality          RuleBased     182\n",
       "6               Qality           UserPopQ   69937\n",
       "7               Qality  UserPopSelectionQ    2417\n",
       "8               Qality               XGBQ   12250\n",
       "9                Yield             BooksY    4150\n",
       "10               Yield               DNNY   45116\n",
       "11               Yield            ManualQ    3624\n",
       "12               Yield            ManualY     543\n",
       "13               Yield               RNNY   12732\n",
       "14               Yield         RuleBasedY   28154\n",
       "15               Yield  UserPopSelectionY      21\n",
       "16               Yield           UserPopY   38600\n",
       "17               Yield               XGBY    4276"
      ]
     },
     "execution_count": 75,
     "metadata": {},
     "output_type": "execute_result"
    }
   ],
   "source": [
    "ad_recs_annotated.groupby(['recommendation_type','rec_provider'])['recommendation_type'].count().reset_index(name='Total')"
   ]
  },
  {
   "cell_type": "markdown",
   "id": "f7081125-302c-4ee2-95e1-a98f5fef27a3",
   "metadata": {},
   "source": [
    "**Solution 14**"
   ]
  },
  {
   "cell_type": "markdown",
   "id": "bc13bcba-339a-4232-b749-87d5d8d2e75d",
   "metadata": {},
   "source": [
    "What are the notation rules distinguishing between quality vs yielding providers?\n",
    "meafien a shmot shel a provider, mistaim v \"q\" = quality\n",
    "kol ma sh magia mi provider q u mi quiality"
   ]
  },
  {
   "cell_type": "code",
   "execution_count": 101,
   "id": "b644a575-c350-4c2a-9893-b4508407463f",
   "metadata": {},
   "outputs": [
    {
     "data": {
      "text/plain": [
       "rec_provider\n",
       "BooksQ                 1720\n",
       "BooksY                 4150\n",
       "DNNQ                 117424\n",
       "DNNY                  45116\n",
       "ManualQ               13844\n",
       "ManualY                1982\n",
       "RNNQ                  20983\n",
       "RNNY                  12732\n",
       "RuleBased               182\n",
       "RuleBasedY            28154\n",
       "UserPopQ              69937\n",
       "UserPopSelectionQ      2417\n",
       "UserPopSelectionY        21\n",
       "UserPopY              38600\n",
       "XGBQ                  12250\n",
       "XGBY                   4276\n",
       "Name: rec_provider, dtype: int64"
      ]
     },
     "execution_count": 101,
     "metadata": {},
     "output_type": "execute_result"
    }
   ],
   "source": [
    "ad_recs_annotated.groupby('rec_provider')['rec_provider'].count()"
   ]
  },
  {
   "cell_type": "code",
   "execution_count": null,
   "id": "39f829d7-c077-4147-b3e3-22b1cc9812e0",
   "metadata": {},
   "outputs": [],
   "source": [
    "ad_recs_annotated.groupby('recommendation_type')['recommendation_type'].count()"
   ]
  },
  {
   "cell_type": "code",
   "execution_count": 85,
   "id": "14509b7a-36e0-4f42-a644-e56cae07ab90",
   "metadata": {},
   "outputs": [
    {
     "data": {
      "text/plain": [
       "0         Q\n",
       "1         Y\n",
       "2         Q\n",
       "3         Q\n",
       "4         Q\n",
       "         ..\n",
       "373783    Y\n",
       "373784    Q\n",
       "373785    Y\n",
       "373786    Q\n",
       "373787    Q\n",
       "Name: recommendation_type, Length: 373788, dtype: object"
      ]
     },
     "execution_count": 85,
     "metadata": {},
     "output_type": "execute_result"
    }
   ],
   "source": [
    "step1 = ad_recs_annotated['recommendation_type'].str[0:1]\n",
    "step1.str.upper()"
   ]
  },
  {
   "cell_type": "code",
   "execution_count": 86,
   "id": "db7dc612-e7b3-47cf-93f6-0b27c2f4a717",
   "metadata": {},
   "outputs": [
    {
     "data": {
      "text/plain": [
       "0         Q\n",
       "1         Y\n",
       "2         Q\n",
       "3         Q\n",
       "4         Q\n",
       "         ..\n",
       "373783    Y\n",
       "373784    Q\n",
       "373785    Y\n",
       "373786    Q\n",
       "373787    Q\n",
       "Name: rec_provider, Length: 373788, dtype: object"
      ]
     },
     "execution_count": 86,
     "metadata": {},
     "output_type": "execute_result"
    }
   ],
   "source": [
    "step2 = ad_recs_annotated['rec_provider'].str[-1:]\n",
    "step2.str.upper()"
   ]
  },
  {
   "cell_type": "code",
   "execution_count": 94,
   "id": "a6dd2f78-4bc7-4cfb-b3d1-f84f07f244d6",
   "metadata": {},
   "outputs": [
    {
     "data": {
      "text/plain": [
       "0         True\n",
       "1         True\n",
       "2         True\n",
       "3         True\n",
       "4         True\n",
       "          ... \n",
       "373783    True\n",
       "373784    True\n",
       "373785    True\n",
       "373786    True\n",
       "373787    True\n",
       "Length: 373788, dtype: bool"
      ]
     },
     "execution_count": 94,
     "metadata": {},
     "output_type": "execute_result"
    }
   ],
   "source": [
    "step3 = (step1 == step2)\n",
    "step3"
   ]
  },
  {
   "cell_type": "code",
   "execution_count": 95,
   "id": "d17ca954-e8e0-440c-a664-41491ea30686",
   "metadata": {},
   "outputs": [
    {
     "data": {
      "text/html": [
       "<div>\n",
       "<style scoped>\n",
       "    .dataframe tbody tr th:only-of-type {\n",
       "        vertical-align: middle;\n",
       "    }\n",
       "\n",
       "    .dataframe tbody tr th {\n",
       "        vertical-align: top;\n",
       "    }\n",
       "\n",
       "    .dataframe thead th {\n",
       "        text-align: right;\n",
       "    }\n",
       "</style>\n",
       "<table border=\"1\" class=\"dataframe\">\n",
       "  <thead>\n",
       "    <tr style=\"text-align: right;\">\n",
       "      <th></th>\n",
       "      <th>week_id</th>\n",
       "      <th>ad_id</th>\n",
       "      <th>requester</th>\n",
       "      <th>region</th>\n",
       "      <th>is_success</th>\n",
       "      <th>is_sever</th>\n",
       "      <th>recommendation_type</th>\n",
       "      <th>rec_provider</th>\n",
       "      <th>year</th>\n",
       "      <th>week</th>\n",
       "      <th>quarter</th>\n",
       "      <th>new_success</th>\n",
       "      <th>ad_count</th>\n",
       "      <th>new_is_sever</th>\n",
       "      <th>check_notation</th>\n",
       "    </tr>\n",
       "  </thead>\n",
       "  <tbody>\n",
       "    <tr>\n",
       "      <th>96146</th>\n",
       "      <td>2021-week_39</td>\n",
       "      <td>AD07JKHNC8</td>\n",
       "      <td>RelayFoods</td>\n",
       "      <td>JP</td>\n",
       "      <td>Yes</td>\n",
       "      <td>NaN</td>\n",
       "      <td>Qality</td>\n",
       "      <td>DNNQ</td>\n",
       "      <td>2021</td>\n",
       "      <td>39</td>\n",
       "      <td>3</td>\n",
       "      <td>1</td>\n",
       "      <td>1</td>\n",
       "      <td>False</td>\n",
       "      <td>True</td>\n",
       "    </tr>\n",
       "    <tr>\n",
       "      <th>291960</th>\n",
       "      <td>2022-week_02</td>\n",
       "      <td>AD08988V9Q</td>\n",
       "      <td>Puentes Company</td>\n",
       "      <td>IN</td>\n",
       "      <td>Yes</td>\n",
       "      <td>NaN</td>\n",
       "      <td>Yield</td>\n",
       "      <td>UserPopY</td>\n",
       "      <td>2022</td>\n",
       "      <td>2</td>\n",
       "      <td>1</td>\n",
       "      <td>1</td>\n",
       "      <td>1</td>\n",
       "      <td>False</td>\n",
       "      <td>True</td>\n",
       "    </tr>\n",
       "    <tr>\n",
       "      <th>142431</th>\n",
       "      <td>2021-week_42</td>\n",
       "      <td>AD088DC88P</td>\n",
       "      <td>Extreme DA</td>\n",
       "      <td>US</td>\n",
       "      <td>Yes</td>\n",
       "      <td>NaN</td>\n",
       "      <td>Yield</td>\n",
       "      <td>DNNY</td>\n",
       "      <td>2021</td>\n",
       "      <td>42</td>\n",
       "      <td>4</td>\n",
       "      <td>1</td>\n",
       "      <td>1</td>\n",
       "      <td>False</td>\n",
       "      <td>True</td>\n",
       "    </tr>\n",
       "    <tr>\n",
       "      <th>212503</th>\n",
       "      <td>2021-week_47</td>\n",
       "      <td>AD088WFOFZ</td>\n",
       "      <td>Extreme DA</td>\n",
       "      <td>US</td>\n",
       "      <td>Yes</td>\n",
       "      <td>NaN</td>\n",
       "      <td>Yield</td>\n",
       "      <td>DNNY</td>\n",
       "      <td>2021</td>\n",
       "      <td>47</td>\n",
       "      <td>4</td>\n",
       "      <td>1</td>\n",
       "      <td>1</td>\n",
       "      <td>False</td>\n",
       "      <td>True</td>\n",
       "    </tr>\n",
       "    <tr>\n",
       "      <th>92046</th>\n",
       "      <td>2021-week_39</td>\n",
       "      <td>AD088TNYTM</td>\n",
       "      <td>LocalVox Media</td>\n",
       "      <td>IN</td>\n",
       "      <td>Yes</td>\n",
       "      <td>NaN</td>\n",
       "      <td>Yield</td>\n",
       "      <td>UserPopY</td>\n",
       "      <td>2021</td>\n",
       "      <td>39</td>\n",
       "      <td>3</td>\n",
       "      <td>1</td>\n",
       "      <td>1</td>\n",
       "      <td>False</td>\n",
       "      <td>True</td>\n",
       "    </tr>\n",
       "  </tbody>\n",
       "</table>\n",
       "</div>"
      ],
      "text/plain": [
       "             week_id       ad_id        requester region is_success is_sever  \\\n",
       "96146   2021-week_39  AD07JKHNC8       RelayFoods     JP        Yes      NaN   \n",
       "291960  2022-week_02  AD08988V9Q  Puentes Company     IN        Yes      NaN   \n",
       "142431  2021-week_42  AD088DC88P       Extreme DA     US        Yes      NaN   \n",
       "212503  2021-week_47  AD088WFOFZ       Extreme DA     US        Yes      NaN   \n",
       "92046   2021-week_39  AD088TNYTM   LocalVox Media     IN        Yes      NaN   \n",
       "\n",
       "       recommendation_type rec_provider  year  week  quarter  new_success  \\\n",
       "96146               Qality         DNNQ  2021    39        3            1   \n",
       "291960               Yield     UserPopY  2022     2        1            1   \n",
       "142431               Yield         DNNY  2021    42        4            1   \n",
       "212503               Yield         DNNY  2021    47        4            1   \n",
       "92046                Yield     UserPopY  2021    39        3            1   \n",
       "\n",
       "        ad_count  new_is_sever  check_notation  \n",
       "96146          1         False            True  \n",
       "291960         1         False            True  \n",
       "142431         1         False            True  \n",
       "212503         1         False            True  \n",
       "92046          1         False            True  "
      ]
     },
     "execution_count": 95,
     "metadata": {},
     "output_type": "execute_result"
    }
   ],
   "source": [
    "ad_recs_annotated['check_notation'] = step3\n",
    "ad_recs_annotated.sample(5)"
   ]
  },
  {
   "cell_type": "code",
   "execution_count": null,
   "id": "c663cb75-55f1-4a67-8809-9aa646687a12",
   "metadata": {},
   "outputs": [],
   "source": [
    "ad_recs_annotated['check_notation'].groupby"
   ]
  },
  {
   "cell_type": "code",
   "execution_count": 97,
   "id": "5167111b-f435-4985-99de-f16ef79808a1",
   "metadata": {},
   "outputs": [
    {
     "data": {
      "text/html": [
       "<div>\n",
       "<style scoped>\n",
       "    .dataframe tbody tr th:only-of-type {\n",
       "        vertical-align: middle;\n",
       "    }\n",
       "\n",
       "    .dataframe tbody tr th {\n",
       "        vertical-align: top;\n",
       "    }\n",
       "\n",
       "    .dataframe thead th {\n",
       "        text-align: right;\n",
       "    }\n",
       "</style>\n",
       "<table border=\"1\" class=\"dataframe\">\n",
       "  <thead>\n",
       "    <tr style=\"text-align: right;\">\n",
       "      <th></th>\n",
       "      <th>check_notation</th>\n",
       "      <th>Total</th>\n",
       "    </tr>\n",
       "  </thead>\n",
       "  <tbody>\n",
       "    <tr>\n",
       "      <th>0</th>\n",
       "      <td>False</td>\n",
       "      <td>5245</td>\n",
       "    </tr>\n",
       "    <tr>\n",
       "      <th>1</th>\n",
       "      <td>True</td>\n",
       "      <td>368543</td>\n",
       "    </tr>\n",
       "  </tbody>\n",
       "</table>\n",
       "</div>"
      ],
      "text/plain": [
       "   check_notation   Total\n",
       "0           False    5245\n",
       "1            True  368543"
      ]
     },
     "execution_count": 97,
     "metadata": {},
     "output_type": "execute_result"
    }
   ],
   "source": [
    "ad_recs_annotated.groupby('check_notation')['check_notation'].count().reset_index(name='Total')"
   ]
  },
  {
   "cell_type": "code",
   "execution_count": 102,
   "id": "0b598d83-5c5d-4741-b8fe-5cefdb18e5d4",
   "metadata": {},
   "outputs": [
    {
     "data": {
      "text/html": [
       "<div>\n",
       "<style scoped>\n",
       "    .dataframe tbody tr th:only-of-type {\n",
       "        vertical-align: middle;\n",
       "    }\n",
       "\n",
       "    .dataframe tbody tr th {\n",
       "        vertical-align: top;\n",
       "    }\n",
       "\n",
       "    .dataframe thead th {\n",
       "        text-align: right;\n",
       "    }\n",
       "</style>\n",
       "<table border=\"1\" class=\"dataframe\">\n",
       "  <thead>\n",
       "    <tr style=\"text-align: right;\">\n",
       "      <th></th>\n",
       "      <th>week_id</th>\n",
       "      <th>ad_id</th>\n",
       "      <th>requester</th>\n",
       "      <th>region</th>\n",
       "      <th>is_success</th>\n",
       "      <th>is_sever</th>\n",
       "      <th>recommendation_type</th>\n",
       "      <th>rec_provider</th>\n",
       "      <th>year</th>\n",
       "      <th>week</th>\n",
       "      <th>quarter</th>\n",
       "      <th>new_success</th>\n",
       "      <th>ad_count</th>\n",
       "      <th>new_is_sever</th>\n",
       "      <th>check_notation</th>\n",
       "    </tr>\n",
       "  </thead>\n",
       "  <tbody>\n",
       "    <tr>\n",
       "      <th>24</th>\n",
       "      <td>2021-week_33</td>\n",
       "      <td>AD07SNPKX8</td>\n",
       "      <td>Search Million Culture</td>\n",
       "      <td>DE</td>\n",
       "      <td>Yes</td>\n",
       "      <td>NaN</td>\n",
       "      <td>Qality</td>\n",
       "      <td>ManualY</td>\n",
       "      <td>2021</td>\n",
       "      <td>33</td>\n",
       "      <td>3</td>\n",
       "      <td>1</td>\n",
       "      <td>1</td>\n",
       "      <td>False</td>\n",
       "      <td>False</td>\n",
       "    </tr>\n",
       "    <tr>\n",
       "      <th>313</th>\n",
       "      <td>2021-week_33</td>\n",
       "      <td>AD07PHPXHQ</td>\n",
       "      <td>iDreamsky Technology</td>\n",
       "      <td>DE</td>\n",
       "      <td>Yes</td>\n",
       "      <td>NaN</td>\n",
       "      <td>Qality</td>\n",
       "      <td>ManualY</td>\n",
       "      <td>2021</td>\n",
       "      <td>33</td>\n",
       "      <td>3</td>\n",
       "      <td>1</td>\n",
       "      <td>1</td>\n",
       "      <td>False</td>\n",
       "      <td>False</td>\n",
       "    </tr>\n",
       "    <tr>\n",
       "      <th>314</th>\n",
       "      <td>2021-week_33</td>\n",
       "      <td>AD07PHPXHQ</td>\n",
       "      <td>Search Million Culture</td>\n",
       "      <td>DE</td>\n",
       "      <td>Yes</td>\n",
       "      <td>NaN</td>\n",
       "      <td>Qality</td>\n",
       "      <td>ManualY</td>\n",
       "      <td>2021</td>\n",
       "      <td>33</td>\n",
       "      <td>3</td>\n",
       "      <td>1</td>\n",
       "      <td>1</td>\n",
       "      <td>False</td>\n",
       "      <td>False</td>\n",
       "    </tr>\n",
       "    <tr>\n",
       "      <th>315</th>\n",
       "      <td>2021-week_33</td>\n",
       "      <td>AD07PHPXHQ</td>\n",
       "      <td>iDreamsky Technology</td>\n",
       "      <td>DE</td>\n",
       "      <td>Yes</td>\n",
       "      <td>NaN</td>\n",
       "      <td>Qality</td>\n",
       "      <td>ManualY</td>\n",
       "      <td>2021</td>\n",
       "      <td>33</td>\n",
       "      <td>3</td>\n",
       "      <td>1</td>\n",
       "      <td>1</td>\n",
       "      <td>False</td>\n",
       "      <td>False</td>\n",
       "    </tr>\n",
       "    <tr>\n",
       "      <th>316</th>\n",
       "      <td>2021-week_33</td>\n",
       "      <td>AD07PHPXHQ</td>\n",
       "      <td>Search Million Culture</td>\n",
       "      <td>DE</td>\n",
       "      <td>Yes</td>\n",
       "      <td>NaN</td>\n",
       "      <td>Qality</td>\n",
       "      <td>ManualY</td>\n",
       "      <td>2021</td>\n",
       "      <td>33</td>\n",
       "      <td>3</td>\n",
       "      <td>1</td>\n",
       "      <td>1</td>\n",
       "      <td>False</td>\n",
       "      <td>False</td>\n",
       "    </tr>\n",
       "  </tbody>\n",
       "</table>\n",
       "</div>"
      ],
      "text/plain": [
       "          week_id       ad_id               requester region is_success  \\\n",
       "24   2021-week_33  AD07SNPKX8  Search Million Culture     DE        Yes   \n",
       "313  2021-week_33  AD07PHPXHQ    iDreamsky Technology     DE        Yes   \n",
       "314  2021-week_33  AD07PHPXHQ  Search Million Culture     DE        Yes   \n",
       "315  2021-week_33  AD07PHPXHQ    iDreamsky Technology     DE        Yes   \n",
       "316  2021-week_33  AD07PHPXHQ  Search Million Culture     DE        Yes   \n",
       "\n",
       "    is_sever recommendation_type rec_provider  year  week  quarter  \\\n",
       "24       NaN              Qality      ManualY  2021    33        3   \n",
       "313      NaN              Qality      ManualY  2021    33        3   \n",
       "314      NaN              Qality      ManualY  2021    33        3   \n",
       "315      NaN              Qality      ManualY  2021    33        3   \n",
       "316      NaN              Qality      ManualY  2021    33        3   \n",
       "\n",
       "     new_success  ad_count  new_is_sever  check_notation  \n",
       "24             1         1         False           False  \n",
       "313            1         1         False           False  \n",
       "314            1         1         False           False  \n",
       "315            1         1         False           False  \n",
       "316            1         1         False           False  "
      ]
     },
     "execution_count": 102,
     "metadata": {},
     "output_type": "execute_result"
    }
   ],
   "source": [
    "ad_recs_annotated.loc[ad_recs_annotated.check_notation == False].head(5)"
   ]
  },
  {
   "cell_type": "markdown",
   "id": "cf86da74-e6f7-4a26-ac16-c6d0d93a9653",
   "metadata": {},
   "source": [
    "Conclusion: In the same query we could see that there is a provider called \"RuleBased\" which doesn't have an indication of the recommendation type (Qality/Yield).\n",
    "Also the above query shoes that there are 5245 entries where the recommendation type doesn't seem to match re indication in rec_provider name.\n",
    "For example index 24, the recommendation_type is \"Qality\" but the last letter of rec_provider, ManualY, is indeed \"Y\".\n",
    "This should be further investigated in order to check if the data is wrong."
   ]
  },
  {
   "cell_type": "markdown",
   "id": "c88feb4f-5fd9-4a33-83e1-7bc4d61fd1aa",
   "metadata": {},
   "source": [
    "**Solution 15**"
   ]
  },
  {
   "cell_type": "code",
   "execution_count": 105,
   "id": "78c6868b-b6eb-4061-94b7-aba03b4f169e",
   "metadata": {},
   "outputs": [
    {
     "data": {
      "text/plain": [
       "('US', 1)"
      ]
     },
     "execution_count": 105,
     "metadata": {},
     "output_type": "execute_result"
    }
   ],
   "source": [
    "success_set = ad_recs_annotated.query('new_success == 1')\n",
    "success_set[[\"region\",\"new_success\"]].value_counts().idxmax()"
   ]
  },
  {
   "cell_type": "code",
   "execution_count": 106,
   "id": "8bd6e6e6-a6d9-4fcd-bf9c-e4dd63571a97",
   "metadata": {},
   "outputs": [
    {
     "data": {
      "text/plain": [
       "region\n",
       "DE    50624\n",
       "GB    69509\n",
       "IN    63355\n",
       "JP    31800\n",
       "US    88918\n",
       "Name: new_success, dtype: int64"
      ]
     },
     "execution_count": 106,
     "metadata": {},
     "output_type": "execute_result"
    }
   ],
   "source": [
    "success_set.groupby(['region'])['new_success'].count() # in order to check the result"
   ]
  },
  {
   "cell_type": "markdown",
   "id": "ccd49645-542e-4dbf-b0c4-b197c974a528",
   "metadata": {},
   "source": [
    "Analysis Bonus questions:\n",
    "1. Compute the per region success rate and CI in trailing weeks, Say, 4 weeks instead of 1 week - to allow for smoother estimations and smaller CIs"
   ]
  },
  {
   "cell_type": "markdown",
   "id": "cbd7201c-98c2-4d59-a76e-e098dc5d9e43",
   "metadata": {},
   "source": [
    "### Merges and joins"
   ]
  },
  {
   "cell_type": "markdown",
   "id": "d78fa97c-4736-41c5-a649-931808eb8b30",
   "metadata": {},
   "source": [
    "The Wow samples and annotations task were sent and recieve seperatly, per each week. The dataset you were working on was constructed from those files. You can see the files under the `data/weekly` folder, here are the first 10 files:"
   ]
  },
  {
   "cell_type": "code",
   "execution_count": null,
   "id": "81341f62-9161-4f1a-a678-251baba01564",
   "metadata": {},
   "outputs": [],
   "source": [
    "import os\n",
    "weekly_files = os.listdir('data/weekly/')\n",
    "sorted(weekly_files)[:10]"
   ]
  },
  {
   "cell_type": "markdown",
   "id": "a0882bd4-9b7a-4ea1-a047-348e5e3f0980",
   "metadata": {},
   "source": [
    "Your task is to reconstruct the dataset above. "
   ]
  },
  {
   "cell_type": "markdown",
   "id": "2405d189-8570-4c86-aa35-320a173779a1",
   "metadata": {},
   "source": [
    "### Visualizations"
   ]
  },
  {
   "cell_type": "markdown",
   "id": "8323da48-3adf-4a9b-b692-7dc528990d5c",
   "metadata": {},
   "source": [
    "Produce the following success rate graph per region:"
   ]
  },
  {
   "cell_type": "code",
   "execution_count": null,
   "id": "42143ac6-1cee-42f8-9eeb-fe7d04683434",
   "metadata": {},
   "outputs": [],
   "source": []
  },
  {
   "cell_type": "markdown",
   "id": "f417703c-0d93-4aee-8a3c-24d6c9e66978",
   "metadata": {},
   "source": [
    "Produce the following requestser proportion graph:"
   ]
  },
  {
   "cell_type": "code",
   "execution_count": null,
   "id": "5d89892f-ca63-4273-b917-2c0d4ef91a79",
   "metadata": {},
   "outputs": [],
   "source": []
  },
  {
   "cell_type": "markdown",
   "id": "a0a44ecb-56c0-4341-94f7-0642ebf71d85",
   "metadata": {},
   "source": [
    "## Appendix"
   ]
  },
  {
   "cell_type": "markdown",
   "id": "0f8d9f04-e707-42ed-b09c-8edbf46a820e",
   "metadata": {},
   "source": [
    "Code to create weekly files:"
   ]
  },
  {
   "cell_type": "code",
   "execution_count": null,
   "id": "4d91c99c-0649-459d-ae1c-5b7cce5a6177",
   "metadata": {},
   "outputs": [],
   "source": [
    "# for l in ad_recs_annotated.region.unique():\n",
    "#     for w in ad_recs_annotated.week_id.unique():\n",
    "#         w_id = w.split('_')[1]\n",
    "#         y = w.split('-')[0]\n",
    "#         query = f'week_id == \"{w}\" and region == \"{l}\"'\n",
    "#         sample_f_name = f'{y}_{w_id}_{l}__Sample.csv'\n",
    "#         ad_recs_annotated.query(query)[['week_id','ad_id','requester','region','recommendation_type', 'rec_provider']].to_csv(f'data/weekly/{sample_f_name}', index=False)\n",
    "#         for s in ad_recs_annotated.recommendation_type.unique():\n",
    "#             ann_f_name = f'{y}_{w_id}_{l}_{s}_annotation_result.csv'\n",
    "#             query = f'week_id == \"{w}\" and region == \"{l}\" and recommendation_type == \"{s}\"'\n",
    "#             sss = ad_recs_annotated.query(query)\n",
    "#             if sss.empty:\n",
    "#                 continue            \n",
    "#             sss[['region','ad_id','is_success','is_sever']].drop_duplicates(subset=['ad_id']).to_csv(f'data/weekly/{ann_f_name}', index=False)"
   ]
  },
  {
   "cell_type": "code",
   "execution_count": null,
   "id": "e16075db-2853-404f-a3fd-6d7b2da6e949",
   "metadata": {},
   "outputs": [],
   "source": []
  },
  {
   "cell_type": "code",
   "execution_count": null,
   "id": "75f5c4bc-2641-4ac6-b26e-28b0d0d3eb48",
   "metadata": {},
   "outputs": [],
   "source": []
  }
 ],
 "metadata": {
  "kernelspec": {
   "display_name": "Python 3 (ipykernel)",
   "language": "python",
   "name": "python3"
  },
  "language_info": {
   "codemirror_mode": {
    "name": "ipython",
    "version": 3
   },
   "file_extension": ".py",
   "mimetype": "text/x-python",
   "name": "python",
   "nbconvert_exporter": "python",
   "pygments_lexer": "ipython3",
   "version": "3.9.7"
  }
 },
 "nbformat": 4,
 "nbformat_minor": 5
}
